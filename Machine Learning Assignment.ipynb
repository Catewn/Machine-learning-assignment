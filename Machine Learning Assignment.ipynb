{
 "cells": [
  {
   "cell_type": "code",
   "execution_count": 1,
   "id": "f540113f",
   "metadata": {},
   "outputs": [
    {
     "name": "stderr",
     "output_type": "stream",
     "text": [
      "C:\\Users\\User\\anaconda3\\lib\\site-packages\\xgboost\\compat.py:36: FutureWarning: pandas.Int64Index is deprecated and will be removed from pandas in a future version. Use pandas.Index with the appropriate dtype instead.\n",
      "  from pandas import MultiIndex, Int64Index\n"
     ]
    }
   ],
   "source": [
    "#imports\n",
    "import numpy as np\n",
    "import matplotlib.pyplot as plt\n",
    "import pandas as pd\n",
    "import seaborn as sns\n",
    "import xgboost as xgb\n",
    "import lightgbm as lgb\n",
    "import warnings\n",
    "warnings.filterwarnings('ignore')\n",
    "# sklearn modules for data preprocessing:\n",
    "from sklearn.preprocessing import LabelEncoder, LabelBinarizer, OneHotEncoder\n",
    "from sklearn.preprocessing import OneHotEncoder\n",
    "from sklearn.model_selection import train_test_split\n",
    "from sklearn.preprocessing import StandardScaler\n",
    "#sklearn modules for Model Selection:\n",
    "from sklearn import svm, tree, linear_model, neighbors\n",
    "from sklearn import naive_bayes, ensemble, discriminant_analysis, gaussian_process\n",
    "from sklearn.neighbors import KNeighborsClassifier\n",
    "from sklearn.ensemble import ExtraTreesClassifier\n",
    "from sklearn.linear_model import LogisticRegression\n",
    "from sklearn.svm import SVC\n",
    "from sklearn.neighbors import KNeighborsClassifier\n",
    "from sklearn.naive_bayes import GaussianNB\n",
    "from sklearn.tree import DecisionTreeClassifier\n",
    "from sklearn.ensemble import RandomForestClassifier\n",
    "from collections import Counter\n",
    "#sklearn modules for Model Evaluation & Improvement:\n",
    "   \n",
    "from sklearn.metrics import confusion_matrix, accuracy_score \n",
    "from sklearn.metrics import f1_score, precision_score, recall_score, fbeta_score\n",
    "from sklearn.model_selection import cross_val_score\n",
    "from sklearn.model_selection import GridSearchCV\n",
    "from sklearn import feature_selection\n",
    "from sklearn import model_selection\n",
    "from sklearn import metrics\n",
    "from sklearn.metrics import classification_report, precision_recall_curve\n",
    "from sklearn.metrics import auc, roc_auc_score, roc_curve\n",
    "from sklearn.metrics import average_precision_score\n",
    "from sklearn.model_selection import cross_val_predict\n",
    "from sklearn.decomposition import PCA\n",
    "#Standard libraries for data visualization:\n",
    "import matplotlib.pyplot as plt\n",
    "import matplotlib \n",
    "from IPython.display import display\n",
    "from sklearn.metrics import roc_curve\n",
    "from imblearn.over_sampling import SMOTE"
   ]
  },
  {
   "cell_type": "code",
   "execution_count": 2,
   "id": "f5156975",
   "metadata": {},
   "outputs": [],
   "source": [
    "#import dataset\n",
    "data = pd.read_csv('banking_churn.csv')"
   ]
  },
  {
   "cell_type": "code",
   "execution_count": 3,
   "id": "d6bd267a",
   "metadata": {},
   "outputs": [
    {
     "data": {
      "text/html": [
       "<div>\n",
       "<style scoped>\n",
       "    .dataframe tbody tr th:only-of-type {\n",
       "        vertical-align: middle;\n",
       "    }\n",
       "\n",
       "    .dataframe tbody tr th {\n",
       "        vertical-align: top;\n",
       "    }\n",
       "\n",
       "    .dataframe thead th {\n",
       "        text-align: right;\n",
       "    }\n",
       "</style>\n",
       "<table border=\"1\" class=\"dataframe\">\n",
       "  <thead>\n",
       "    <tr style=\"text-align: right;\">\n",
       "      <th></th>\n",
       "      <th>RowNumber</th>\n",
       "      <th>CustomerId</th>\n",
       "      <th>Surname</th>\n",
       "      <th>CreditScore</th>\n",
       "      <th>Geography</th>\n",
       "      <th>Gender</th>\n",
       "      <th>Age</th>\n",
       "      <th>Tenure</th>\n",
       "      <th>Balance</th>\n",
       "      <th>NumOfProducts</th>\n",
       "      <th>HasCrCard</th>\n",
       "      <th>IsActiveMember</th>\n",
       "      <th>EstimatedSalary</th>\n",
       "      <th>Exited</th>\n",
       "    </tr>\n",
       "  </thead>\n",
       "  <tbody>\n",
       "    <tr>\n",
       "      <th>0</th>\n",
       "      <td>1</td>\n",
       "      <td>15634602</td>\n",
       "      <td>Hargrave</td>\n",
       "      <td>619</td>\n",
       "      <td>France</td>\n",
       "      <td>Female</td>\n",
       "      <td>42</td>\n",
       "      <td>2</td>\n",
       "      <td>0.00</td>\n",
       "      <td>1</td>\n",
       "      <td>1</td>\n",
       "      <td>1</td>\n",
       "      <td>101348.88</td>\n",
       "      <td>1</td>\n",
       "    </tr>\n",
       "    <tr>\n",
       "      <th>1</th>\n",
       "      <td>2</td>\n",
       "      <td>15647311</td>\n",
       "      <td>Hill</td>\n",
       "      <td>608</td>\n",
       "      <td>Spain</td>\n",
       "      <td>Female</td>\n",
       "      <td>41</td>\n",
       "      <td>1</td>\n",
       "      <td>83807.86</td>\n",
       "      <td>1</td>\n",
       "      <td>0</td>\n",
       "      <td>1</td>\n",
       "      <td>112542.58</td>\n",
       "      <td>0</td>\n",
       "    </tr>\n",
       "    <tr>\n",
       "      <th>2</th>\n",
       "      <td>3</td>\n",
       "      <td>15619304</td>\n",
       "      <td>Onio</td>\n",
       "      <td>502</td>\n",
       "      <td>France</td>\n",
       "      <td>Female</td>\n",
       "      <td>42</td>\n",
       "      <td>8</td>\n",
       "      <td>159660.80</td>\n",
       "      <td>3</td>\n",
       "      <td>1</td>\n",
       "      <td>0</td>\n",
       "      <td>113931.57</td>\n",
       "      <td>1</td>\n",
       "    </tr>\n",
       "    <tr>\n",
       "      <th>3</th>\n",
       "      <td>4</td>\n",
       "      <td>15701354</td>\n",
       "      <td>Boni</td>\n",
       "      <td>699</td>\n",
       "      <td>France</td>\n",
       "      <td>Female</td>\n",
       "      <td>39</td>\n",
       "      <td>1</td>\n",
       "      <td>0.00</td>\n",
       "      <td>2</td>\n",
       "      <td>0</td>\n",
       "      <td>0</td>\n",
       "      <td>93826.63</td>\n",
       "      <td>0</td>\n",
       "    </tr>\n",
       "    <tr>\n",
       "      <th>4</th>\n",
       "      <td>5</td>\n",
       "      <td>15737888</td>\n",
       "      <td>Mitchell</td>\n",
       "      <td>850</td>\n",
       "      <td>Spain</td>\n",
       "      <td>Female</td>\n",
       "      <td>43</td>\n",
       "      <td>2</td>\n",
       "      <td>125510.82</td>\n",
       "      <td>1</td>\n",
       "      <td>1</td>\n",
       "      <td>1</td>\n",
       "      <td>79084.10</td>\n",
       "      <td>0</td>\n",
       "    </tr>\n",
       "  </tbody>\n",
       "</table>\n",
       "</div>"
      ],
      "text/plain": [
       "   RowNumber  CustomerId   Surname  CreditScore Geography  Gender  Age  \\\n",
       "0          1    15634602  Hargrave          619    France  Female   42   \n",
       "1          2    15647311      Hill          608     Spain  Female   41   \n",
       "2          3    15619304      Onio          502    France  Female   42   \n",
       "3          4    15701354      Boni          699    France  Female   39   \n",
       "4          5    15737888  Mitchell          850     Spain  Female   43   \n",
       "\n",
       "   Tenure    Balance  NumOfProducts  HasCrCard  IsActiveMember  \\\n",
       "0       2       0.00              1          1               1   \n",
       "1       1   83807.86              1          0               1   \n",
       "2       8  159660.80              3          1               0   \n",
       "3       1       0.00              2          0               0   \n",
       "4       2  125510.82              1          1               1   \n",
       "\n",
       "   EstimatedSalary  Exited  \n",
       "0        101348.88       1  \n",
       "1        112542.58       0  \n",
       "2        113931.57       1  \n",
       "3         93826.63       0  \n",
       "4         79084.10       0  "
      ]
     },
     "execution_count": 3,
     "metadata": {},
     "output_type": "execute_result"
    }
   ],
   "source": [
    "data.head()"
   ]
  },
  {
   "cell_type": "code",
   "execution_count": 4,
   "id": "cf6d986f",
   "metadata": {},
   "outputs": [
    {
     "name": "stdout",
     "output_type": "stream",
     "text": [
      "<class 'pandas.core.frame.DataFrame'>\n",
      "RangeIndex: 10000 entries, 0 to 9999\n",
      "Data columns (total 14 columns):\n",
      " #   Column           Non-Null Count  Dtype  \n",
      "---  ------           --------------  -----  \n",
      " 0   RowNumber        10000 non-null  int64  \n",
      " 1   CustomerId       10000 non-null  int64  \n",
      " 2   Surname          10000 non-null  object \n",
      " 3   CreditScore      10000 non-null  int64  \n",
      " 4   Geography        10000 non-null  object \n",
      " 5   Gender           10000 non-null  object \n",
      " 6   Age              10000 non-null  int64  \n",
      " 7   Tenure           10000 non-null  int64  \n",
      " 8   Balance          10000 non-null  float64\n",
      " 9   NumOfProducts    10000 non-null  int64  \n",
      " 10  HasCrCard        10000 non-null  int64  \n",
      " 11  IsActiveMember   10000 non-null  int64  \n",
      " 12  EstimatedSalary  10000 non-null  float64\n",
      " 13  Exited           10000 non-null  int64  \n",
      "dtypes: float64(2), int64(9), object(3)\n",
      "memory usage: 1.1+ MB\n"
     ]
    }
   ],
   "source": [
    "data.info()"
   ]
  },
  {
   "cell_type": "code",
   "execution_count": 5,
   "id": "b39c95d7",
   "metadata": {},
   "outputs": [
    {
     "data": {
      "text/plain": [
       "RowNumber            int64\n",
       "CustomerId           int64\n",
       "Surname             object\n",
       "CreditScore          int64\n",
       "Geography           object\n",
       "Gender              object\n",
       "Age                  int64\n",
       "Tenure               int64\n",
       "Balance            float64\n",
       "NumOfProducts        int64\n",
       "HasCrCard            int64\n",
       "IsActiveMember       int64\n",
       "EstimatedSalary    float64\n",
       "Exited               int64\n",
       "dtype: object"
      ]
     },
     "execution_count": 5,
     "metadata": {},
     "output_type": "execute_result"
    }
   ],
   "source": [
    "data.dtypes"
   ]
  },
  {
   "cell_type": "code",
   "execution_count": 6,
   "id": "778f1b26",
   "metadata": {},
   "outputs": [
    {
     "name": "stdout",
     "output_type": "stream",
     "text": [
      "RowNumber          0\n",
      "CustomerId         0\n",
      "Surname            0\n",
      "CreditScore        0\n",
      "Geography          0\n",
      "Gender             0\n",
      "Age                0\n",
      "Tenure             0\n",
      "Balance            0\n",
      "NumOfProducts      0\n",
      "HasCrCard          0\n",
      "IsActiveMember     0\n",
      "EstimatedSalary    0\n",
      "Exited             0\n",
      "dtype: int64\n"
     ]
    }
   ],
   "source": [
    "#Detect missing data\n",
    "print(data.isnull().sum())"
   ]
  },
  {
   "cell_type": "code",
   "execution_count": 7,
   "id": "8d3b6d25",
   "metadata": {},
   "outputs": [
    {
     "data": {
      "text/plain": [
       "False    10000\n",
       "dtype: int64"
      ]
     },
     "execution_count": 7,
     "metadata": {},
     "output_type": "execute_result"
    }
   ],
   "source": [
    "#Check for duplicates\n",
    "data.duplicated().value_counts()"
   ]
  },
  {
   "cell_type": "code",
   "execution_count": 8,
   "id": "287edbea",
   "metadata": {},
   "outputs": [
    {
     "data": {
      "text/plain": [
       "(10000, 14)"
      ]
     },
     "execution_count": 8,
     "metadata": {},
     "output_type": "execute_result"
    }
   ],
   "source": [
    "data.shape"
   ]
  },
  {
   "cell_type": "code",
   "execution_count": 9,
   "id": "68bfb3b8",
   "metadata": {},
   "outputs": [
    {
     "data": {
      "text/html": [
       "<div>\n",
       "<style scoped>\n",
       "    .dataframe tbody tr th:only-of-type {\n",
       "        vertical-align: middle;\n",
       "    }\n",
       "\n",
       "    .dataframe tbody tr th {\n",
       "        vertical-align: top;\n",
       "    }\n",
       "\n",
       "    .dataframe thead th {\n",
       "        text-align: right;\n",
       "    }\n",
       "</style>\n",
       "<table border=\"1\" class=\"dataframe\">\n",
       "  <thead>\n",
       "    <tr style=\"text-align: right;\">\n",
       "      <th></th>\n",
       "      <th>RowNumber</th>\n",
       "      <th>CustomerId</th>\n",
       "      <th>Surname</th>\n",
       "      <th>CreditScore</th>\n",
       "      <th>Geography</th>\n",
       "      <th>Gender</th>\n",
       "      <th>Age</th>\n",
       "      <th>Tenure</th>\n",
       "      <th>Balance</th>\n",
       "      <th>NumOfProducts</th>\n",
       "      <th>HasCrCard</th>\n",
       "      <th>IsActiveMember</th>\n",
       "      <th>EstimatedSalary</th>\n",
       "      <th>Exited</th>\n",
       "    </tr>\n",
       "  </thead>\n",
       "  <tbody>\n",
       "  </tbody>\n",
       "</table>\n",
       "</div>"
      ],
      "text/plain": [
       "Empty DataFrame\n",
       "Columns: [RowNumber, CustomerId, Surname, CreditScore, Geography, Gender, Age, Tenure, Balance, NumOfProducts, HasCrCard, IsActiveMember, EstimatedSalary, Exited]\n",
       "Index: []"
      ]
     },
     "execution_count": 9,
     "metadata": {},
     "output_type": "execute_result"
    }
   ],
   "source": [
    "#Identifying unique values for the Gender column\n",
    "data.loc[(data['Gender'] != 'Female') & (data['Gender'] != 'Male')]"
   ]
  },
  {
   "cell_type": "code",
   "execution_count": 10,
   "id": "ecb10124",
   "metadata": {},
   "outputs": [
    {
     "data": {
      "text/html": [
       "<div>\n",
       "<style scoped>\n",
       "    .dataframe tbody tr th:only-of-type {\n",
       "        vertical-align: middle;\n",
       "    }\n",
       "\n",
       "    .dataframe tbody tr th {\n",
       "        vertical-align: top;\n",
       "    }\n",
       "\n",
       "    .dataframe thead th {\n",
       "        text-align: right;\n",
       "    }\n",
       "</style>\n",
       "<table border=\"1\" class=\"dataframe\">\n",
       "  <thead>\n",
       "    <tr style=\"text-align: right;\">\n",
       "      <th></th>\n",
       "      <th>RowNumber</th>\n",
       "      <th>CustomerId</th>\n",
       "      <th>Surname</th>\n",
       "      <th>CreditScore</th>\n",
       "      <th>Geography</th>\n",
       "      <th>Gender</th>\n",
       "      <th>Age</th>\n",
       "      <th>Tenure</th>\n",
       "      <th>Balance</th>\n",
       "      <th>NumOfProducts</th>\n",
       "      <th>HasCrCard</th>\n",
       "      <th>IsActiveMember</th>\n",
       "      <th>EstimatedSalary</th>\n",
       "      <th>Exited</th>\n",
       "    </tr>\n",
       "  </thead>\n",
       "  <tbody>\n",
       "  </tbody>\n",
       "</table>\n",
       "</div>"
      ],
      "text/plain": [
       "Empty DataFrame\n",
       "Columns: [RowNumber, CustomerId, Surname, CreditScore, Geography, Gender, Age, Tenure, Balance, NumOfProducts, HasCrCard, IsActiveMember, EstimatedSalary, Exited]\n",
       "Index: []"
      ]
     },
     "execution_count": 10,
     "metadata": {},
     "output_type": "execute_result"
    }
   ],
   "source": [
    "#Identifying unique values for the Geography column\n",
    "data.loc[(data['Geography'] != 'France') & (data['Geography'] != 'Spain')& (data['Geography'] != 'Germany')]"
   ]
  },
  {
   "cell_type": "code",
   "execution_count": 11,
   "id": "be7578de",
   "metadata": {},
   "outputs": [
    {
     "data": {
      "text/plain": [
       "0    7963\n",
       "1    2037\n",
       "Name: Exited, dtype: int64"
      ]
     },
     "execution_count": 11,
     "metadata": {},
     "output_type": "execute_result"
    }
   ],
   "source": [
    "#Check target variable distribution\n",
    "data[\"Exited\"].value_counts()"
   ]
  },
  {
   "cell_type": "markdown",
   "id": "2b2c2c0a",
   "metadata": {},
   "source": [
    "# Exploratory Data Analysis\n",
    "\n",
    "Predictors\n"
   ]
  },
  {
   "cell_type": "code",
   "execution_count": 12,
   "id": "7e927e2f",
   "metadata": {},
   "outputs": [
    {
     "data": {
      "text/plain": [
       "count    10000.000000\n",
       "mean        38.921800\n",
       "std         10.487806\n",
       "min         18.000000\n",
       "25%         32.000000\n",
       "50%         37.000000\n",
       "75%         44.000000\n",
       "max         92.000000\n",
       "Name: Age, dtype: float64"
      ]
     },
     "execution_count": 12,
     "metadata": {},
     "output_type": "execute_result"
    }
   ],
   "source": [
    "#Age\n",
    "data['Age'].describe()"
   ]
  },
  {
   "cell_type": "code",
   "execution_count": 13,
   "id": "435bd853",
   "metadata": {},
   "outputs": [
    {
     "data": {
      "text/plain": [
       "Text(0, 0.5, 'Count')"
      ]
     },
     "execution_count": 13,
     "metadata": {},
     "output_type": "execute_result"
    },
    {
     "data": {
      "image/png": "[encoded data removed]",
      "text/plain": [
       "<Figure size 432x288 with 1 Axes>"
      ]
     },
     "metadata": {
      "needs_background": "light"
     },
     "output_type": "display_data"
    }
   ],
   "source": [
    "#hist age\n",
    "plt.title(\"Customers by Age\")\n",
    "data['Age'].hist(bins = 30, color = 'blue', alpha = 0.7)\n",
    "plt.xlabel(\"Age\")\n",
    "plt.ylabel(\"Count\")"
   ]
  },
  {
   "cell_type": "code",
   "execution_count": 14,
   "id": "64250476",
   "metadata": {},
   "outputs": [
    {
     "data": {
      "text/plain": [
       "count    10000.000000\n",
       "mean       650.528800\n",
       "std         96.653299\n",
       "min        350.000000\n",
       "25%        584.000000\n",
       "50%        652.000000\n",
       "75%        718.000000\n",
       "max        850.000000\n",
       "Name: CreditScore, dtype: float64"
      ]
     },
     "execution_count": 14,
     "metadata": {},
     "output_type": "execute_result"
    }
   ],
   "source": [
    "#credit score\n",
    "data['CreditScore'].describe()"
   ]
  },
  {
   "cell_type": "code",
   "execution_count": 15,
   "id": "11fea25f",
   "metadata": {},
   "outputs": [
    {
     "data": {
      "text/plain": [
       "Text(0, 0.5, 'Count')"
      ]
     },
     "execution_count": 15,
     "metadata": {},
     "output_type": "execute_result"
    },
    {
     "data": {
      "image/png": "[encoded data removed]",
      "text/plain": [
       "<Figure size 432x288 with 1 Axes>"
      ]
     },
     "metadata": {
      "needs_background": "light"
     },
     "output_type": "display_data"
    }
   ],
   "source": [
    "#hist credit score\n",
    "plt.title(\"Customers by Credit Score\")\n",
    "data['CreditScore'].hist(bins = 30, color = 'blue', alpha = 0.7)\n",
    "plt.xlabel(\"Credit Score\")\n",
    "plt.ylabel(\"Count\")"
   ]
  },
  {
   "cell_type": "code",
   "execution_count": 16,
   "id": "b966394b",
   "metadata": {},
   "outputs": [
    {
     "data": {
      "text/plain": [
       "count      10000\n",
       "unique         3\n",
       "top       France\n",
       "freq        5014\n",
       "Name: Geography, dtype: object"
      ]
     },
     "execution_count": 16,
     "metadata": {},
     "output_type": "execute_result"
    }
   ],
   "source": [
    "data['Geography'].describe()"
   ]
  },
  {
   "cell_type": "code",
   "execution_count": 17,
   "id": "0af7911a",
   "metadata": {},
   "outputs": [
    {
     "data": {
      "image/png": "[encoded data removed]",
      "text/plain": [
       "<Figure size 432x288 with 1 Axes>"
      ]
     },
     "metadata": {
      "needs_background": "light"
     },
     "output_type": "display_data"
    }
   ],
   "source": [
    "#Geography\n",
    "Geography = data['Geography']\n",
    "plt.title(\"Customers by Geography\")\n",
    "plt.hist(Geography, \n",
    "         edgecolor='black',\n",
    "         color= '#09fea8')\n",
    "plt.xlabel(\"Geography\")\n",
    "plt.ylabel(\"Count\")\n",
    "plt.show() "
   ]
  },
  {
   "cell_type": "code",
   "execution_count": 18,
   "id": "191108cc",
   "metadata": {},
   "outputs": [
    {
     "data": {
      "text/plain": [
       "count     10000\n",
       "unique        2\n",
       "top        Male\n",
       "freq       5457\n",
       "Name: Gender, dtype: object"
      ]
     },
     "execution_count": 18,
     "metadata": {},
     "output_type": "execute_result"
    }
   ],
   "source": [
    "#Gender\n",
    "data['Gender'].describe()"
   ]
  },
  {
   "cell_type": "code",
   "execution_count": 19,
   "id": "25792873",
   "metadata": {},
   "outputs": [
    {
     "data": {
      "text/plain": [
       "<AxesSubplot:title={'center':'Customers by Gender'}, ylabel='Gender'>"
      ]
     },
     "execution_count": 19,
     "metadata": {},
     "output_type": "execute_result"
    },
    {
     "data": {
      "image/png": "[encoded data removed]",
      "text/plain": [
       "<Figure size 432x288 with 1 Axes>"
      ]
     },
     "metadata": {},
     "output_type": "display_data"
    }
   ],
   "source": [
    "#Gender\n",
    "plt.title(\"Customers by Gender\")\n",
    "data['Gender'].value_counts().plot(kind='pie', autopct='%.2f%%')"
   ]
  },
  {
   "cell_type": "code",
   "execution_count": 20,
   "id": "e0ffbc11",
   "metadata": {},
   "outputs": [
    {
     "data": {
      "text/plain": [
       "count    10000.000000\n",
       "mean         5.012800\n",
       "std          2.892174\n",
       "min          0.000000\n",
       "25%          3.000000\n",
       "50%          5.000000\n",
       "75%          7.000000\n",
       "max         10.000000\n",
       "Name: Tenure, dtype: float64"
      ]
     },
     "execution_count": 20,
     "metadata": {},
     "output_type": "execute_result"
    }
   ],
   "source": [
    "#Tenure\n",
    "data['Tenure'].describe()"
   ]
  },
  {
   "cell_type": "code",
   "execution_count": 21,
   "id": "97f3fab3",
   "metadata": {},
   "outputs": [
    {
     "data": {
      "image/png": "[encoded data removed]",
      "text/plain": [
       "<Figure size 432x288 with 1 Axes>"
      ]
     },
     "metadata": {
      "needs_background": "light"
     },
     "output_type": "display_data"
    }
   ],
   "source": [
    "Tenure = data['Tenure']\n",
    "plt.title(\"Customers by Tenure\")\n",
    "plt.hist(Tenure,\n",
    "         edgecolor='black',\n",
    "         color= '#09fea8')\n",
    "plt.xlabel(\"Tenure\")\n",
    "plt.ylabel(\"Count\")\n",
    "plt.show() "
   ]
  },
  {
   "cell_type": "code",
   "execution_count": 22,
   "id": "39a51fda",
   "metadata": {},
   "outputs": [
    {
     "data": {
      "text/plain": [
       "count    10000.000000\n",
       "mean         1.530200\n",
       "std          0.581654\n",
       "min          1.000000\n",
       "25%          1.000000\n",
       "50%          1.000000\n",
       "75%          2.000000\n",
       "max          4.000000\n",
       "Name: NumOfProducts, dtype: float64"
      ]
     },
     "execution_count": 22,
     "metadata": {},
     "output_type": "execute_result"
    }
   ],
   "source": [
    "#NumOfProducts \n",
    "data['NumOfProducts'].describe()"
   ]
  },
  {
   "cell_type": "code",
   "execution_count": 23,
   "id": "89b1d261",
   "metadata": {},
   "outputs": [
    {
     "data": {
      "image/png": "[encoded data removed]",
      "text/plain": [
       "<Figure size 432x288 with 1 Axes>"
      ]
     },
     "metadata": {
      "needs_background": "light"
     },
     "output_type": "display_data"
    }
   ],
   "source": [
    "NumOfProducts = data['NumOfProducts']\n",
    "plt.title(\"Customers by NumOfProducts\")\n",
    "plt.hist(NumOfProducts, \n",
    "         edgecolor='black',\n",
    "         color= '#09fea8')\n",
    "plt.xlabel(\"NumOfProducts\")\n",
    "plt.ylabel(\"Count\")\n",
    "plt.show() "
   ]
  },
  {
   "cell_type": "code",
   "execution_count": 24,
   "id": "39b587c3",
   "metadata": {},
   "outputs": [
    {
     "data": {
      "text/plain": [
       "count    10000.00000\n",
       "mean         0.70550\n",
       "std          0.45584\n",
       "min          0.00000\n",
       "25%          0.00000\n",
       "50%          1.00000\n",
       "75%          1.00000\n",
       "max          1.00000\n",
       "Name: HasCrCard, dtype: float64"
      ]
     },
     "execution_count": 24,
     "metadata": {},
     "output_type": "execute_result"
    }
   ],
   "source": [
    "#HasCrCard\n",
    "data['HasCrCard'].describe()"
   ]
  },
  {
   "cell_type": "code",
   "execution_count": 25,
   "id": "1df4b012",
   "metadata": {},
   "outputs": [
    {
     "data": {
      "text/plain": [
       "<AxesSubplot:title={'center':'Customers by HasCrCard'}, ylabel='HasCrCard'>"
      ]
     },
     "execution_count": 25,
     "metadata": {},
     "output_type": "execute_result"
    },
    {
     "data": {
      "image/png": "[encoded data removed]",
      "text/plain": [
       "<Figure size 432x288 with 1 Axes>"
      ]
     },
     "metadata": {},
     "output_type": "display_data"
    }
   ],
   "source": [
    "plt.title(\"Customers by HasCrCard\")\n",
    "data['HasCrCard'].value_counts().plot(kind='pie', autopct='%.2f%%')"
   ]
  },
  {
   "cell_type": "code",
   "execution_count": 26,
   "id": "06ee8a95",
   "metadata": {},
   "outputs": [
    {
     "data": {
      "text/plain": [
       "count    10000.000000\n",
       "mean         0.515100\n",
       "std          0.499797\n",
       "min          0.000000\n",
       "25%          0.000000\n",
       "50%          1.000000\n",
       "75%          1.000000\n",
       "max          1.000000\n",
       "Name: IsActiveMember, dtype: float64"
      ]
     },
     "execution_count": 26,
     "metadata": {},
     "output_type": "execute_result"
    }
   ],
   "source": [
    "#IsActiveMember \n",
    "data['IsActiveMember'].describe()"
   ]
  },
  {
   "cell_type": "code",
   "execution_count": 27,
   "id": "f374a0a0",
   "metadata": {},
   "outputs": [
    {
     "data": {
      "text/plain": [
       "<AxesSubplot:title={'center':'Customers by IsActiveMember'}, ylabel='IsActiveMember'>"
      ]
     },
     "execution_count": 27,
     "metadata": {},
     "output_type": "execute_result"
    },
    {
     "data": {
      "image/png": "[encoded data removed]",
      "text/plain": [
       "<Figure size 432x288 with 1 Axes>"
      ]
     },
     "metadata": {},
     "output_type": "display_data"
    }
   ],
   "source": [
    "plt.title(\"Customers by IsActiveMember\")\n",
    "data['IsActiveMember'].value_counts().plot(kind='pie', autopct='%.2f%%')"
   ]
  },
  {
   "cell_type": "code",
   "execution_count": 28,
   "id": "755f3148",
   "metadata": {},
   "outputs": [
    {
     "data": {
      "text/plain": [
       "count     10000.000000\n",
       "mean     100090.239881\n",
       "std       57510.492818\n",
       "min          11.580000\n",
       "25%       51002.110000\n",
       "50%      100193.915000\n",
       "75%      149388.247500\n",
       "max      199992.480000\n",
       "Name: EstimatedSalary, dtype: float64"
      ]
     },
     "execution_count": 28,
     "metadata": {},
     "output_type": "execute_result"
    }
   ],
   "source": [
    "#EstimatedSalary \n",
    "data['EstimatedSalary'].describe()"
   ]
  },
  {
   "cell_type": "code",
   "execution_count": 29,
   "id": "5bc1f25e",
   "metadata": {},
   "outputs": [
    {
     "data": {
      "image/png": "[encoded data removed]",
      "text/plain": [
       "<Figure size 432x288 with 1 Axes>"
      ]
     },
     "metadata": {
      "needs_background": "light"
     },
     "output_type": "display_data"
    }
   ],
   "source": [
    "EstimatedSalary = data['EstimatedSalary']\n",
    "plt.title(\"Customers by Estimated Salary\")\n",
    "plt.hist(EstimatedSalary,bins = 50,\n",
    "         edgecolor='black',\n",
    "         color= '#09fea8')\n",
    "plt.xlabel(\"Estimated Salary\")\n",
    "plt.ylabel(\"Count\")\n",
    "plt.show() "
   ]
  },
  {
   "cell_type": "code",
   "execution_count": 30,
   "id": "4e5c73f9",
   "metadata": {},
   "outputs": [
    {
     "data": {
      "text/plain": [
       "<AxesSubplot:title={'center':'Churn Rate'}, ylabel='Exited'>"
      ]
     },
     "execution_count": 30,
     "metadata": {},
     "output_type": "execute_result"
    },
    {
     "data": {
      "image/png": "[encoded data removed]",
      "text/plain": [
       "<Figure size 432x288 with 1 Axes>"
      ]
     },
     "metadata": {},
     "output_type": "display_data"
    }
   ],
   "source": [
    "#Exited\n",
    "plt.title(\"Churn Rate\")\n",
    "data['Exited'].value_counts().plot(kind='pie', autopct='%.2f%%')"
   ]
  },
  {
   "cell_type": "code",
   "execution_count": 31,
   "id": "27499931",
   "metadata": {},
   "outputs": [],
   "source": [
    "#Drop unnecessary columns\n",
    "data.drop(columns=['Surname', 'CustomerId', 'RowNumber', 'Balance'],inplace=True)"
   ]
  },
  {
   "cell_type": "code",
   "execution_count": 32,
   "id": "004c3c40",
   "metadata": {
    "scrolled": true
   },
   "outputs": [
    {
     "data": {
      "text/plain": [
       "CreditScore           int64\n",
       "Geography          category\n",
       "Gender             category\n",
       "Age                   int64\n",
       "Tenure                int64\n",
       "NumOfProducts         int64\n",
       "HasCrCard             int64\n",
       "IsActiveMember        int64\n",
       "EstimatedSalary     float64\n",
       "Exited                int64\n",
       "dtype: object"
      ]
     },
     "execution_count": 32,
     "metadata": {},
     "output_type": "execute_result"
    }
   ],
   "source": [
    "#Convert object dtype to category dtype for feature processing\n",
    "for i in data.columns:\n",
    "    if data[i].dtype == 'object':\n",
    "        data[i] = data[i].astype('category')\n",
    "\n",
    "data.dtypes"
   ]
  },
  {
   "cell_type": "code",
   "execution_count": 33,
   "id": "3ed1975f",
   "metadata": {},
   "outputs": [
    {
     "data": {
      "text/html": [
       "<div>\n",
       "<style scoped>\n",
       "    .dataframe tbody tr th:only-of-type {\n",
       "        vertical-align: middle;\n",
       "    }\n",
       "\n",
       "    .dataframe tbody tr th {\n",
       "        vertical-align: top;\n",
       "    }\n",
       "\n",
       "    .dataframe thead th {\n",
       "        text-align: right;\n",
       "    }\n",
       "</style>\n",
       "<table border=\"1\" class=\"dataframe\">\n",
       "  <thead>\n",
       "    <tr style=\"text-align: right;\">\n",
       "      <th></th>\n",
       "      <th>CreditScore</th>\n",
       "      <th>Geography</th>\n",
       "      <th>Gender</th>\n",
       "      <th>Age</th>\n",
       "      <th>Tenure</th>\n",
       "      <th>NumOfProducts</th>\n",
       "      <th>HasCrCard</th>\n",
       "      <th>IsActiveMember</th>\n",
       "      <th>EstimatedSalary</th>\n",
       "    </tr>\n",
       "  </thead>\n",
       "  <tbody>\n",
       "    <tr>\n",
       "      <th>0</th>\n",
       "      <td>619</td>\n",
       "      <td>France</td>\n",
       "      <td>Female</td>\n",
       "      <td>42</td>\n",
       "      <td>2</td>\n",
       "      <td>1</td>\n",
       "      <td>1</td>\n",
       "      <td>1</td>\n",
       "      <td>101348.88</td>\n",
       "    </tr>\n",
       "    <tr>\n",
       "      <th>1</th>\n",
       "      <td>608</td>\n",
       "      <td>Spain</td>\n",
       "      <td>Female</td>\n",
       "      <td>41</td>\n",
       "      <td>1</td>\n",
       "      <td>1</td>\n",
       "      <td>0</td>\n",
       "      <td>1</td>\n",
       "      <td>112542.58</td>\n",
       "    </tr>\n",
       "    <tr>\n",
       "      <th>2</th>\n",
       "      <td>502</td>\n",
       "      <td>France</td>\n",
       "      <td>Female</td>\n",
       "      <td>42</td>\n",
       "      <td>8</td>\n",
       "      <td>3</td>\n",
       "      <td>1</td>\n",
       "      <td>0</td>\n",
       "      <td>113931.57</td>\n",
       "    </tr>\n",
       "  </tbody>\n",
       "</table>\n",
       "</div>"
      ],
      "text/plain": [
       "   CreditScore Geography  Gender  Age  Tenure  NumOfProducts  HasCrCard  \\\n",
       "0          619    France  Female   42       2              1          1   \n",
       "1          608     Spain  Female   41       1              1          0   \n",
       "2          502    France  Female   42       8              3          1   \n",
       "\n",
       "   IsActiveMember  EstimatedSalary  \n",
       "0               1        101348.88  \n",
       "1               1        112542.58  \n",
       "2               0        113931.57  "
      ]
     },
     "execution_count": 33,
     "metadata": {},
     "output_type": "execute_result"
    }
   ],
   "source": [
    "# encoding without target\n",
    "df_a = data\n",
    "y_a = df_a['Exited']\n",
    "x_a = df_a.drop(columns=['Exited'])\n",
    "x_a.head(3)"
   ]
  },
  {
   "cell_type": "code",
   "execution_count": 34,
   "id": "06b6e4b4",
   "metadata": {},
   "outputs": [],
   "source": [
    "# Pre-requisite: train test split to avoid data leakage\n",
    "x_a_train, x_a_test, y_a_train, y_a_test = train_test_split(x_a, y_a, test_size=0.3, random_state=1)"
   ]
  },
  {
   "cell_type": "code",
   "execution_count": 35,
   "id": "3f55d0cd",
   "metadata": {},
   "outputs": [
    {
     "data": {
      "text/html": [
       "<div>\n",
       "<style scoped>\n",
       "    .dataframe tbody tr th:only-of-type {\n",
       "        vertical-align: middle;\n",
       "    }\n",
       "\n",
       "    .dataframe tbody tr th {\n",
       "        vertical-align: top;\n",
       "    }\n",
       "\n",
       "    .dataframe thead th {\n",
       "        text-align: right;\n",
       "    }\n",
       "</style>\n",
       "<table border=\"1\" class=\"dataframe\">\n",
       "  <thead>\n",
       "    <tr style=\"text-align: right;\">\n",
       "      <th></th>\n",
       "      <th>2228</th>\n",
       "      <th>5910</th>\n",
       "      <th>1950</th>\n",
       "      <th>2119</th>\n",
       "      <th>5947</th>\n",
       "    </tr>\n",
       "  </thead>\n",
       "  <tbody>\n",
       "    <tr>\n",
       "      <th>CreditScore</th>\n",
       "      <td>644</td>\n",
       "      <td>481</td>\n",
       "      <td>680</td>\n",
       "      <td>690</td>\n",
       "      <td>656</td>\n",
       "    </tr>\n",
       "    <tr>\n",
       "      <th>Geography</th>\n",
       "      <td>France</td>\n",
       "      <td>France</td>\n",
       "      <td>France</td>\n",
       "      <td>France</td>\n",
       "      <td>France</td>\n",
       "    </tr>\n",
       "    <tr>\n",
       "      <th>Gender</th>\n",
       "      <td>Female</td>\n",
       "      <td>Female</td>\n",
       "      <td>Female</td>\n",
       "      <td>Male</td>\n",
       "      <td>Female</td>\n",
       "    </tr>\n",
       "    <tr>\n",
       "      <th>Age</th>\n",
       "      <td>37</td>\n",
       "      <td>39</td>\n",
       "      <td>37</td>\n",
       "      <td>29</td>\n",
       "      <td>45</td>\n",
       "    </tr>\n",
       "    <tr>\n",
       "      <th>Tenure</th>\n",
       "      <td>8</td>\n",
       "      <td>6</td>\n",
       "      <td>10</td>\n",
       "      <td>5</td>\n",
       "      <td>7</td>\n",
       "    </tr>\n",
       "    <tr>\n",
       "      <th>NumOfProducts</th>\n",
       "      <td>2</td>\n",
       "      <td>1</td>\n",
       "      <td>1</td>\n",
       "      <td>2</td>\n",
       "      <td>1</td>\n",
       "    </tr>\n",
       "    <tr>\n",
       "      <th>HasCrCard</th>\n",
       "      <td>1</td>\n",
       "      <td>1</td>\n",
       "      <td>1</td>\n",
       "      <td>1</td>\n",
       "      <td>1</td>\n",
       "    </tr>\n",
       "    <tr>\n",
       "      <th>IsActiveMember</th>\n",
       "      <td>0</td>\n",
       "      <td>1</td>\n",
       "      <td>0</td>\n",
       "      <td>0</td>\n",
       "      <td>1</td>\n",
       "    </tr>\n",
       "    <tr>\n",
       "      <th>EstimatedSalary</th>\n",
       "      <td>20968.88</td>\n",
       "      <td>24677.54</td>\n",
       "      <td>81776.84</td>\n",
       "      <td>108577.97</td>\n",
       "      <td>199392.14</td>\n",
       "    </tr>\n",
       "    <tr>\n",
       "      <th>Geography_France</th>\n",
       "      <td>1.0</td>\n",
       "      <td>1.0</td>\n",
       "      <td>1.0</td>\n",
       "      <td>1.0</td>\n",
       "      <td>1.0</td>\n",
       "    </tr>\n",
       "    <tr>\n",
       "      <th>Geography_Germany</th>\n",
       "      <td>0.0</td>\n",
       "      <td>0.0</td>\n",
       "      <td>0.0</td>\n",
       "      <td>0.0</td>\n",
       "      <td>0.0</td>\n",
       "    </tr>\n",
       "    <tr>\n",
       "      <th>Geography_Spain</th>\n",
       "      <td>0.0</td>\n",
       "      <td>0.0</td>\n",
       "      <td>0.0</td>\n",
       "      <td>0.0</td>\n",
       "      <td>0.0</td>\n",
       "    </tr>\n",
       "    <tr>\n",
       "      <th>Gender_Female</th>\n",
       "      <td>1.0</td>\n",
       "      <td>1.0</td>\n",
       "      <td>1.0</td>\n",
       "      <td>0.0</td>\n",
       "      <td>1.0</td>\n",
       "    </tr>\n",
       "    <tr>\n",
       "      <th>Gender_Male</th>\n",
       "      <td>0.0</td>\n",
       "      <td>0.0</td>\n",
       "      <td>0.0</td>\n",
       "      <td>1.0</td>\n",
       "      <td>0.0</td>\n",
       "    </tr>\n",
       "  </tbody>\n",
       "</table>\n",
       "</div>"
      ],
      "text/plain": [
       "                       2228      5910      1950       2119       5947\n",
       "CreditScore             644       481       680        690        656\n",
       "Geography            France    France    France     France     France\n",
       "Gender               Female    Female    Female       Male     Female\n",
       "Age                      37        39        37         29         45\n",
       "Tenure                    8         6        10          5          7\n",
       "NumOfProducts             2         1         1          2          1\n",
       "HasCrCard                 1         1         1          1          1\n",
       "IsActiveMember            0         1         0          0          1\n",
       "EstimatedSalary    20968.88  24677.54  81776.84  108577.97  199392.14\n",
       "Geography_France        1.0       1.0       1.0        1.0        1.0\n",
       "Geography_Germany       0.0       0.0       0.0        0.0        0.0\n",
       "Geography_Spain         0.0       0.0       0.0        0.0        0.0\n",
       "Gender_Female           1.0       1.0       1.0        0.0        1.0\n",
       "Gender_Male             0.0       0.0       0.0        1.0        0.0"
      ]
     },
     "execution_count": 35,
     "metadata": {},
     "output_type": "execute_result"
    }
   ],
   "source": [
    "onehot = OneHotEncoder(sparse=False, handle_unknown='error')#\n",
    "nominal = onehot.fit_transform(x_a_train[['Geography', 'Gender']])\n",
    "df_nominal = pd.DataFrame(index=x_a_train.index, data=nominal, columns=onehot.get_feature_names(['Geography', 'Gender']))\n",
    "x_a_train = pd.concat([x_a_train, df_nominal], axis=1)\n",
    "x_a_train.head().T"
   ]
  },
  {
   "cell_type": "code",
   "execution_count": 36,
   "id": "df8437fc",
   "metadata": {},
   "outputs": [
    {
     "data": {
      "text/html": [
       "<div>\n",
       "<style scoped>\n",
       "    .dataframe tbody tr th:only-of-type {\n",
       "        vertical-align: middle;\n",
       "    }\n",
       "\n",
       "    .dataframe tbody tr th {\n",
       "        vertical-align: top;\n",
       "    }\n",
       "\n",
       "    .dataframe thead th {\n",
       "        text-align: right;\n",
       "    }\n",
       "</style>\n",
       "<table border=\"1\" class=\"dataframe\">\n",
       "  <thead>\n",
       "    <tr style=\"text-align: right;\">\n",
       "      <th></th>\n",
       "      <th>2228</th>\n",
       "      <th>5910</th>\n",
       "      <th>1950</th>\n",
       "      <th>2119</th>\n",
       "      <th>5947</th>\n",
       "    </tr>\n",
       "  </thead>\n",
       "  <tbody>\n",
       "    <tr>\n",
       "      <th>CreditScore</th>\n",
       "      <td>644.00</td>\n",
       "      <td>481.00</td>\n",
       "      <td>680.00</td>\n",
       "      <td>690.00</td>\n",
       "      <td>656.00</td>\n",
       "    </tr>\n",
       "    <tr>\n",
       "      <th>Age</th>\n",
       "      <td>37.00</td>\n",
       "      <td>39.00</td>\n",
       "      <td>37.00</td>\n",
       "      <td>29.00</td>\n",
       "      <td>45.00</td>\n",
       "    </tr>\n",
       "    <tr>\n",
       "      <th>Tenure</th>\n",
       "      <td>8.00</td>\n",
       "      <td>6.00</td>\n",
       "      <td>10.00</td>\n",
       "      <td>5.00</td>\n",
       "      <td>7.00</td>\n",
       "    </tr>\n",
       "    <tr>\n",
       "      <th>NumOfProducts</th>\n",
       "      <td>2.00</td>\n",
       "      <td>1.00</td>\n",
       "      <td>1.00</td>\n",
       "      <td>2.00</td>\n",
       "      <td>1.00</td>\n",
       "    </tr>\n",
       "    <tr>\n",
       "      <th>HasCrCard</th>\n",
       "      <td>1.00</td>\n",
       "      <td>1.00</td>\n",
       "      <td>1.00</td>\n",
       "      <td>1.00</td>\n",
       "      <td>1.00</td>\n",
       "    </tr>\n",
       "    <tr>\n",
       "      <th>IsActiveMember</th>\n",
       "      <td>0.00</td>\n",
       "      <td>1.00</td>\n",
       "      <td>0.00</td>\n",
       "      <td>0.00</td>\n",
       "      <td>1.00</td>\n",
       "    </tr>\n",
       "    <tr>\n",
       "      <th>EstimatedSalary</th>\n",
       "      <td>20968.88</td>\n",
       "      <td>24677.54</td>\n",
       "      <td>81776.84</td>\n",
       "      <td>108577.97</td>\n",
       "      <td>199392.14</td>\n",
       "    </tr>\n",
       "    <tr>\n",
       "      <th>Geography_France</th>\n",
       "      <td>1.00</td>\n",
       "      <td>1.00</td>\n",
       "      <td>1.00</td>\n",
       "      <td>1.00</td>\n",
       "      <td>1.00</td>\n",
       "    </tr>\n",
       "    <tr>\n",
       "      <th>Geography_Germany</th>\n",
       "      <td>0.00</td>\n",
       "      <td>0.00</td>\n",
       "      <td>0.00</td>\n",
       "      <td>0.00</td>\n",
       "      <td>0.00</td>\n",
       "    </tr>\n",
       "    <tr>\n",
       "      <th>Geography_Spain</th>\n",
       "      <td>0.00</td>\n",
       "      <td>0.00</td>\n",
       "      <td>0.00</td>\n",
       "      <td>0.00</td>\n",
       "      <td>0.00</td>\n",
       "    </tr>\n",
       "    <tr>\n",
       "      <th>Gender_Female</th>\n",
       "      <td>1.00</td>\n",
       "      <td>1.00</td>\n",
       "      <td>1.00</td>\n",
       "      <td>0.00</td>\n",
       "      <td>1.00</td>\n",
       "    </tr>\n",
       "    <tr>\n",
       "      <th>Gender_Male</th>\n",
       "      <td>0.00</td>\n",
       "      <td>0.00</td>\n",
       "      <td>0.00</td>\n",
       "      <td>1.00</td>\n",
       "      <td>0.00</td>\n",
       "    </tr>\n",
       "  </tbody>\n",
       "</table>\n",
       "</div>"
      ],
      "text/plain": [
       "                       2228      5910      1950       2119       5947\n",
       "CreditScore          644.00    481.00    680.00     690.00     656.00\n",
       "Age                   37.00     39.00     37.00      29.00      45.00\n",
       "Tenure                 8.00      6.00     10.00       5.00       7.00\n",
       "NumOfProducts          2.00      1.00      1.00       2.00       1.00\n",
       "HasCrCard              1.00      1.00      1.00       1.00       1.00\n",
       "IsActiveMember         0.00      1.00      0.00       0.00       1.00\n",
       "EstimatedSalary    20968.88  24677.54  81776.84  108577.97  199392.14\n",
       "Geography_France       1.00      1.00      1.00       1.00       1.00\n",
       "Geography_Germany      0.00      0.00      0.00       0.00       0.00\n",
       "Geography_Spain        0.00      0.00      0.00       0.00       0.00\n",
       "Gender_Female          1.00      1.00      1.00       0.00       1.00\n",
       "Gender_Male            0.00      0.00      0.00       1.00       0.00"
      ]
     },
     "execution_count": 36,
     "metadata": {},
     "output_type": "execute_result"
    }
   ],
   "source": [
    "x_a_train.drop(columns=['Geography', 'Gender'], inplace=True)\n",
    "x_a_train.head().T"
   ]
  },
  {
   "cell_type": "code",
   "execution_count": 37,
   "id": "5436cd9f",
   "metadata": {},
   "outputs": [
    {
     "data": {
      "text/html": [
       "<div>\n",
       "<style scoped>\n",
       "    .dataframe tbody tr th:only-of-type {\n",
       "        vertical-align: middle;\n",
       "    }\n",
       "\n",
       "    .dataframe tbody tr th {\n",
       "        vertical-align: top;\n",
       "    }\n",
       "\n",
       "    .dataframe thead th {\n",
       "        text-align: right;\n",
       "    }\n",
       "</style>\n",
       "<table border=\"1\" class=\"dataframe\">\n",
       "  <thead>\n",
       "    <tr style=\"text-align: right;\">\n",
       "      <th></th>\n",
       "      <th>CreditScore</th>\n",
       "      <th>Age</th>\n",
       "      <th>Tenure</th>\n",
       "      <th>NumOfProducts</th>\n",
       "      <th>HasCrCard</th>\n",
       "      <th>IsActiveMember</th>\n",
       "      <th>EstimatedSalary</th>\n",
       "      <th>Geography_France</th>\n",
       "      <th>Geography_Germany</th>\n",
       "      <th>Geography_Spain</th>\n",
       "      <th>Gender_Female</th>\n",
       "      <th>Gender_Male</th>\n",
       "    </tr>\n",
       "  </thead>\n",
       "  <tbody>\n",
       "    <tr>\n",
       "      <th>9953</th>\n",
       "      <td>550</td>\n",
       "      <td>47</td>\n",
       "      <td>2</td>\n",
       "      <td>2</td>\n",
       "      <td>1</td>\n",
       "      <td>1</td>\n",
       "      <td>97057.28</td>\n",
       "      <td>1.0</td>\n",
       "      <td>0.0</td>\n",
       "      <td>0.0</td>\n",
       "      <td>0.0</td>\n",
       "      <td>1.0</td>\n",
       "    </tr>\n",
       "    <tr>\n",
       "      <th>3850</th>\n",
       "      <td>680</td>\n",
       "      <td>34</td>\n",
       "      <td>3</td>\n",
       "      <td>1</td>\n",
       "      <td>1</td>\n",
       "      <td>0</td>\n",
       "      <td>66526.01</td>\n",
       "      <td>1.0</td>\n",
       "      <td>0.0</td>\n",
       "      <td>0.0</td>\n",
       "      <td>0.0</td>\n",
       "      <td>1.0</td>\n",
       "    </tr>\n",
       "    <tr>\n",
       "      <th>4962</th>\n",
       "      <td>531</td>\n",
       "      <td>42</td>\n",
       "      <td>2</td>\n",
       "      <td>2</td>\n",
       "      <td>0</td>\n",
       "      <td>1</td>\n",
       "      <td>90537.47</td>\n",
       "      <td>1.0</td>\n",
       "      <td>0.0</td>\n",
       "      <td>0.0</td>\n",
       "      <td>1.0</td>\n",
       "      <td>0.0</td>\n",
       "    </tr>\n",
       "    <tr>\n",
       "      <th>3886</th>\n",
       "      <td>710</td>\n",
       "      <td>34</td>\n",
       "      <td>8</td>\n",
       "      <td>2</td>\n",
       "      <td>0</td>\n",
       "      <td>1</td>\n",
       "      <td>1561.58</td>\n",
       "      <td>0.0</td>\n",
       "      <td>1.0</td>\n",
       "      <td>0.0</td>\n",
       "      <td>0.0</td>\n",
       "      <td>1.0</td>\n",
       "    </tr>\n",
       "    <tr>\n",
       "      <th>5437</th>\n",
       "      <td>543</td>\n",
       "      <td>30</td>\n",
       "      <td>6</td>\n",
       "      <td>1</td>\n",
       "      <td>1</td>\n",
       "      <td>1</td>\n",
       "      <td>176692.65</td>\n",
       "      <td>0.0</td>\n",
       "      <td>1.0</td>\n",
       "      <td>0.0</td>\n",
       "      <td>0.0</td>\n",
       "      <td>1.0</td>\n",
       "    </tr>\n",
       "  </tbody>\n",
       "</table>\n",
       "</div>"
      ],
      "text/plain": [
       "      CreditScore  Age  Tenure  NumOfProducts  HasCrCard  IsActiveMember  \\\n",
       "9953          550   47       2              2          1               1   \n",
       "3850          680   34       3              1          1               0   \n",
       "4962          531   42       2              2          0               1   \n",
       "3886          710   34       8              2          0               1   \n",
       "5437          543   30       6              1          1               1   \n",
       "\n",
       "      EstimatedSalary  Geography_France  Geography_Germany  Geography_Spain  \\\n",
       "9953         97057.28               1.0                0.0              0.0   \n",
       "3850         66526.01               1.0                0.0              0.0   \n",
       "4962         90537.47               1.0                0.0              0.0   \n",
       "3886          1561.58               0.0                1.0              0.0   \n",
       "5437        176692.65               0.0                1.0              0.0   \n",
       "\n",
       "      Gender_Female  Gender_Male  \n",
       "9953            0.0          1.0  \n",
       "3850            0.0          1.0  \n",
       "4962            1.0          0.0  \n",
       "3886            0.0          1.0  \n",
       "5437            0.0          1.0  "
      ]
     },
     "execution_count": 37,
     "metadata": {},
     "output_type": "execute_result"
    }
   ],
   "source": [
    "nominal_test = onehot.fit_transform(x_a_test[['Geography', 'Gender']])\n",
    "df_nominal_test = pd.DataFrame(index=x_a_test.index, data=nominal_test, columns=onehot.get_feature_names(['Geography','Gender']))\n",
    "x_a_test = pd.concat([x_a_test, df_nominal_test], axis=1)\n",
    "x_a_test.drop(columns=['Geography', 'Gender'], inplace=True)\n",
    "x_a_test.head()"
   ]
  },
  {
   "cell_type": "code",
   "execution_count": 38,
   "id": "1f6ba586",
   "metadata": {},
   "outputs": [
    {
     "data": {
      "text/plain": [
       "(array([694., 669., 713., 714., 721., 702., 692., 705., 693., 697.]),\n",
       " array([9.17500000e+01, 2.00796490e+04, 4.00675480e+04, 6.00554470e+04,\n",
       "        8.00433460e+04, 1.00031245e+05, 1.20019144e+05, 1.40007043e+05,\n",
       "        1.59994942e+05, 1.79982841e+05, 1.99970740e+05]),\n",
       " <BarContainer object of 10 artists>)"
      ]
     },
     "execution_count": 38,
     "metadata": {},
     "output_type": "execute_result"
    },
    {
     "data": {
      "image/png": "[encoded data removed]",
      "text/plain": [
       "<Figure size 1080x720 with 4 Axes>"
      ]
     },
     "metadata": {
      "needs_background": "light"
     },
     "output_type": "display_data"
    }
   ],
   "source": [
    "#2.1.3. Continuous variables:EstimatedSalary, age, CreditScore\n",
    "\n",
    "fig, ax = plt.subplots(2,2,figsize=(15,10))\n",
    "\n",
    "ax[0][0].hist(x_a_train.Age)\n",
    "ax[0][1].hist(x_a_train.CreditScore)\n",
    "ax[1][0].hist(x_a_train.EstimatedSalary)"
   ]
  },
  {
   "cell_type": "code",
   "execution_count": 39,
   "id": "3fdc8699",
   "metadata": {},
   "outputs": [
    {
     "data": {
      "text/html": [
       "<div>\n",
       "<style scoped>\n",
       "    .dataframe tbody tr th:only-of-type {\n",
       "        vertical-align: middle;\n",
       "    }\n",
       "\n",
       "    .dataframe tbody tr th {\n",
       "        vertical-align: top;\n",
       "    }\n",
       "\n",
       "    .dataframe thead th {\n",
       "        text-align: right;\n",
       "    }\n",
       "</style>\n",
       "<table border=\"1\" class=\"dataframe\">\n",
       "  <thead>\n",
       "    <tr style=\"text-align: right;\">\n",
       "      <th></th>\n",
       "      <th>Tenure</th>\n",
       "      <th>NumOfProducts</th>\n",
       "      <th>HasCrCard</th>\n",
       "      <th>IsActiveMember</th>\n",
       "      <th>Geography_France</th>\n",
       "      <th>Geography_Germany</th>\n",
       "      <th>Geography_Spain</th>\n",
       "      <th>Gender_Female</th>\n",
       "      <th>Gender_Male</th>\n",
       "      <th>Age</th>\n",
       "      <th>EstimatedSalary</th>\n",
       "      <th>CreditScore</th>\n",
       "    </tr>\n",
       "  </thead>\n",
       "  <tbody>\n",
       "    <tr>\n",
       "      <th>2228</th>\n",
       "      <td>8</td>\n",
       "      <td>2</td>\n",
       "      <td>1</td>\n",
       "      <td>0</td>\n",
       "      <td>1.0</td>\n",
       "      <td>0.0</td>\n",
       "      <td>0.0</td>\n",
       "      <td>1.0</td>\n",
       "      <td>0.0</td>\n",
       "      <td>1</td>\n",
       "      <td>0</td>\n",
       "      <td>1</td>\n",
       "    </tr>\n",
       "    <tr>\n",
       "      <th>5910</th>\n",
       "      <td>6</td>\n",
       "      <td>1</td>\n",
       "      <td>1</td>\n",
       "      <td>1</td>\n",
       "      <td>1.0</td>\n",
       "      <td>0.0</td>\n",
       "      <td>0.0</td>\n",
       "      <td>1.0</td>\n",
       "      <td>0.0</td>\n",
       "      <td>2</td>\n",
       "      <td>0</td>\n",
       "      <td>0</td>\n",
       "    </tr>\n",
       "    <tr>\n",
       "      <th>1950</th>\n",
       "      <td>10</td>\n",
       "      <td>1</td>\n",
       "      <td>1</td>\n",
       "      <td>0</td>\n",
       "      <td>1.0</td>\n",
       "      <td>0.0</td>\n",
       "      <td>0.0</td>\n",
       "      <td>1.0</td>\n",
       "      <td>0.0</td>\n",
       "      <td>1</td>\n",
       "      <td>1</td>\n",
       "      <td>2</td>\n",
       "    </tr>\n",
       "    <tr>\n",
       "      <th>2119</th>\n",
       "      <td>5</td>\n",
       "      <td>2</td>\n",
       "      <td>1</td>\n",
       "      <td>0</td>\n",
       "      <td>1.0</td>\n",
       "      <td>0.0</td>\n",
       "      <td>0.0</td>\n",
       "      <td>0.0</td>\n",
       "      <td>1.0</td>\n",
       "      <td>0</td>\n",
       "      <td>2</td>\n",
       "      <td>2</td>\n",
       "    </tr>\n",
       "    <tr>\n",
       "      <th>5947</th>\n",
       "      <td>7</td>\n",
       "      <td>1</td>\n",
       "      <td>1</td>\n",
       "      <td>1</td>\n",
       "      <td>1.0</td>\n",
       "      <td>0.0</td>\n",
       "      <td>0.0</td>\n",
       "      <td>1.0</td>\n",
       "      <td>0.0</td>\n",
       "      <td>3</td>\n",
       "      <td>3</td>\n",
       "      <td>2</td>\n",
       "    </tr>\n",
       "  </tbody>\n",
       "</table>\n",
       "</div>"
      ],
      "text/plain": [
       "      Tenure  NumOfProducts  HasCrCard  IsActiveMember  Geography_France  \\\n",
       "2228       8              2          1               0               1.0   \n",
       "5910       6              1          1               1               1.0   \n",
       "1950      10              1          1               0               1.0   \n",
       "2119       5              2          1               0               1.0   \n",
       "5947       7              1          1               1               1.0   \n",
       "\n",
       "      Geography_Germany  Geography_Spain  Gender_Female  Gender_Male  Age  \\\n",
       "2228                0.0              0.0            1.0          0.0    1   \n",
       "5910                0.0              0.0            1.0          0.0    2   \n",
       "1950                0.0              0.0            1.0          0.0    1   \n",
       "2119                0.0              0.0            0.0          1.0    0   \n",
       "5947                0.0              0.0            1.0          0.0    3   \n",
       "\n",
       "      EstimatedSalary  CreditScore  \n",
       "2228                0            1  \n",
       "5910                0            0  \n",
       "1950                1            2  \n",
       "2119                2            2  \n",
       "5947                3            2  "
      ]
     },
     "execution_count": 39,
     "metadata": {},
     "output_type": "execute_result"
    }
   ],
   "source": [
    "#Apply to x_train set\n",
    "\n",
    "x_a_train['age_binned'] = pd.qcut(x_a_train.Age, q=[0, .25, .50, .75, 1], duplicates='drop')\n",
    "x_a_train['EstimatedSalary_binned'] = pd.qcut(x_a_train.EstimatedSalary, q=[0, .25, .50, .75, 1], duplicates='drop')\n",
    "x_a_train['CreditScore_binned'] = pd.qcut(x_a_train.CreditScore, q=[0, .25, .50, .75, 1], duplicates='drop')\n",
    "\n",
    "x_a_train.drop(columns=['Age', 'EstimatedSalary', 'CreditScore'], inplace=True)\n",
    "\n",
    "#Since each category is divided into 4 equal bins, we can apply Label Encoder without bias\n",
    "le = LabelEncoder()\n",
    "x_a_train['Age'] = le.fit_transform(x_a_train['age_binned'])\n",
    "x_a_train['EstimatedSalary'] = le.fit_transform(x_a_train['EstimatedSalary_binned'])\n",
    "x_a_train['CreditScore'] = le.fit_transform(x_a_train['CreditScore_binned'])\n",
    "\n",
    "x_a_train.drop(columns=['age_binned','EstimatedSalary_binned', 'CreditScore_binned'],inplace=True)\n",
    "\n",
    "x_a_train.head()"
   ]
  },
  {
   "cell_type": "code",
   "execution_count": 40,
   "id": "23a4e35a",
   "metadata": {},
   "outputs": [],
   "source": [
    "#Apply to x_test set\n",
    "x_a_test['age_binned'] = pd.qcut(x_a_test.Age, q=[0, .25, .50, .75, 1], duplicates='drop')\n",
    "x_a_test['EstimatedSalary_binned'] = pd.qcut(x_a_test.EstimatedSalary, q=[0, .25, .50, .75, 1], duplicates='drop')\n",
    "x_a_test['CreditScore_binned'] = pd.qcut(x_a_test.CreditScore, q=[0, .25, .50, .75, 1], duplicates='drop')\n",
    "\n",
    "x_a_test.drop(columns=['Age', 'EstimatedSalary', 'CreditScore'], inplace=True)\n",
    "\n",
    "#Since each category is divided into 5 equal bins, we can apply Label Encoder without bias\n",
    "\n",
    "x_a_test['age'] = le.fit_transform(x_a_test['age_binned'])\n",
    "x_a_test['EstimatedSalary'] = le.fit_transform(x_a_test['EstimatedSalary_binned'])\n",
    "x_a_test['CreditScore'] = le.fit_transform(x_a_test['CreditScore_binned'])\n",
    "\n",
    "x_a_test.drop(columns=['age_binned','EstimatedSalary_binned', 'CreditScore_binned'],inplace=True)"
   ]
  },
  {
   "cell_type": "code",
   "execution_count": 41,
   "id": "a054f93a",
   "metadata": {},
   "outputs": [
    {
     "data": {
      "text/html": [
       "<div>\n",
       "<style scoped>\n",
       "    .dataframe tbody tr th:only-of-type {\n",
       "        vertical-align: middle;\n",
       "    }\n",
       "\n",
       "    .dataframe tbody tr th {\n",
       "        vertical-align: top;\n",
       "    }\n",
       "\n",
       "    .dataframe thead th {\n",
       "        text-align: right;\n",
       "    }\n",
       "</style>\n",
       "<table border=\"1\" class=\"dataframe\">\n",
       "  <thead>\n",
       "    <tr style=\"text-align: right;\">\n",
       "      <th></th>\n",
       "      <th>9953</th>\n",
       "      <th>3850</th>\n",
       "      <th>4962</th>\n",
       "    </tr>\n",
       "  </thead>\n",
       "  <tbody>\n",
       "    <tr>\n",
       "      <th>Tenure</th>\n",
       "      <td>2.0</td>\n",
       "      <td>3.0</td>\n",
       "      <td>2.0</td>\n",
       "    </tr>\n",
       "    <tr>\n",
       "      <th>NumOfProducts</th>\n",
       "      <td>2.0</td>\n",
       "      <td>1.0</td>\n",
       "      <td>2.0</td>\n",
       "    </tr>\n",
       "    <tr>\n",
       "      <th>HasCrCard</th>\n",
       "      <td>1.0</td>\n",
       "      <td>1.0</td>\n",
       "      <td>0.0</td>\n",
       "    </tr>\n",
       "    <tr>\n",
       "      <th>IsActiveMember</th>\n",
       "      <td>1.0</td>\n",
       "      <td>0.0</td>\n",
       "      <td>1.0</td>\n",
       "    </tr>\n",
       "    <tr>\n",
       "      <th>Geography_France</th>\n",
       "      <td>1.0</td>\n",
       "      <td>1.0</td>\n",
       "      <td>1.0</td>\n",
       "    </tr>\n",
       "    <tr>\n",
       "      <th>Geography_Germany</th>\n",
       "      <td>0.0</td>\n",
       "      <td>0.0</td>\n",
       "      <td>0.0</td>\n",
       "    </tr>\n",
       "    <tr>\n",
       "      <th>Geography_Spain</th>\n",
       "      <td>0.0</td>\n",
       "      <td>0.0</td>\n",
       "      <td>0.0</td>\n",
       "    </tr>\n",
       "    <tr>\n",
       "      <th>Gender_Female</th>\n",
       "      <td>0.0</td>\n",
       "      <td>0.0</td>\n",
       "      <td>1.0</td>\n",
       "    </tr>\n",
       "    <tr>\n",
       "      <th>Gender_Male</th>\n",
       "      <td>1.0</td>\n",
       "      <td>1.0</td>\n",
       "      <td>0.0</td>\n",
       "    </tr>\n",
       "    <tr>\n",
       "      <th>age</th>\n",
       "      <td>3.0</td>\n",
       "      <td>1.0</td>\n",
       "      <td>2.0</td>\n",
       "    </tr>\n",
       "    <tr>\n",
       "      <th>EstimatedSalary</th>\n",
       "      <td>1.0</td>\n",
       "      <td>1.0</td>\n",
       "      <td>1.0</td>\n",
       "    </tr>\n",
       "    <tr>\n",
       "      <th>CreditScore</th>\n",
       "      <td>0.0</td>\n",
       "      <td>2.0</td>\n",
       "      <td>0.0</td>\n",
       "    </tr>\n",
       "  </tbody>\n",
       "</table>\n",
       "</div>"
      ],
      "text/plain": [
       "                   9953  3850  4962\n",
       "Tenure              2.0   3.0   2.0\n",
       "NumOfProducts       2.0   1.0   2.0\n",
       "HasCrCard           1.0   1.0   0.0\n",
       "IsActiveMember      1.0   0.0   1.0\n",
       "Geography_France    1.0   1.0   1.0\n",
       "Geography_Germany   0.0   0.0   0.0\n",
       "Geography_Spain     0.0   0.0   0.0\n",
       "Gender_Female       0.0   0.0   1.0\n",
       "Gender_Male         1.0   1.0   0.0\n",
       "age                 3.0   1.0   2.0\n",
       "EstimatedSalary     1.0   1.0   1.0\n",
       "CreditScore         0.0   2.0   0.0"
      ]
     },
     "execution_count": 41,
     "metadata": {},
     "output_type": "execute_result"
    }
   ],
   "source": [
    "x_a_test.head(3).T"
   ]
  },
  {
   "cell_type": "code",
   "execution_count": 42,
   "id": "35ed58ad",
   "metadata": {},
   "outputs": [
    {
     "data": {
      "text/html": [
       "<div>\n",
       "<style scoped>\n",
       "    .dataframe tbody tr th:only-of-type {\n",
       "        vertical-align: middle;\n",
       "    }\n",
       "\n",
       "    .dataframe tbody tr th {\n",
       "        vertical-align: top;\n",
       "    }\n",
       "\n",
       "    .dataframe thead th {\n",
       "        text-align: right;\n",
       "    }\n",
       "</style>\n",
       "<table border=\"1\" class=\"dataframe\">\n",
       "  <thead>\n",
       "    <tr style=\"text-align: right;\">\n",
       "      <th></th>\n",
       "      <th>Tenure</th>\n",
       "      <th>NumOfProducts</th>\n",
       "      <th>HasCrCard</th>\n",
       "      <th>IsActiveMember</th>\n",
       "      <th>Geography_France</th>\n",
       "      <th>Geography_Germany</th>\n",
       "      <th>Geography_Spain</th>\n",
       "      <th>Gender_Female</th>\n",
       "      <th>Gender_Male</th>\n",
       "      <th>age</th>\n",
       "      <th>EstimatedSalary</th>\n",
       "      <th>CreditScore</th>\n",
       "    </tr>\n",
       "  </thead>\n",
       "  <tbody>\n",
       "    <tr>\n",
       "      <th>0</th>\n",
       "      <td>-1.015951</td>\n",
       "      <td>0.829642</td>\n",
       "      <td>0.655693</td>\n",
       "      <td>0.944852</td>\n",
       "      <td>0.986097</td>\n",
       "      <td>-0.567599</td>\n",
       "      <td>-0.576324</td>\n",
       "      <td>-0.893622</td>\n",
       "      <td>0.893622</td>\n",
       "      <td>1.365652</td>\n",
       "      <td>-0.447214</td>\n",
       "      <td>-1.336350</td>\n",
       "    </tr>\n",
       "    <tr>\n",
       "      <th>1</th>\n",
       "      <td>-0.672802</td>\n",
       "      <td>-0.903593</td>\n",
       "      <td>0.655693</td>\n",
       "      <td>-1.058367</td>\n",
       "      <td>0.986097</td>\n",
       "      <td>-0.567599</td>\n",
       "      <td>-0.576324</td>\n",
       "      <td>-0.893622</td>\n",
       "      <td>0.893622</td>\n",
       "      <td>-0.393076</td>\n",
       "      <td>-0.447214</td>\n",
       "      <td>0.450612</td>\n",
       "    </tr>\n",
       "    <tr>\n",
       "      <th>2</th>\n",
       "      <td>-1.015951</td>\n",
       "      <td>0.829642</td>\n",
       "      <td>-1.525104</td>\n",
       "      <td>0.944852</td>\n",
       "      <td>0.986097</td>\n",
       "      <td>-0.567599</td>\n",
       "      <td>-0.576324</td>\n",
       "      <td>1.119041</td>\n",
       "      <td>-1.119041</td>\n",
       "      <td>0.486288</td>\n",
       "      <td>-0.447214</td>\n",
       "      <td>-1.336350</td>\n",
       "    </tr>\n",
       "    <tr>\n",
       "      <th>3</th>\n",
       "      <td>1.042946</td>\n",
       "      <td>0.829642</td>\n",
       "      <td>-1.525104</td>\n",
       "      <td>0.944852</td>\n",
       "      <td>-1.014099</td>\n",
       "      <td>1.761808</td>\n",
       "      <td>-0.576324</td>\n",
       "      <td>-0.893622</td>\n",
       "      <td>0.893622</td>\n",
       "      <td>-0.393076</td>\n",
       "      <td>-1.341641</td>\n",
       "      <td>0.450612</td>\n",
       "    </tr>\n",
       "    <tr>\n",
       "      <th>4</th>\n",
       "      <td>0.356647</td>\n",
       "      <td>-0.903593</td>\n",
       "      <td>0.655693</td>\n",
       "      <td>0.944852</td>\n",
       "      <td>-1.014099</td>\n",
       "      <td>1.761808</td>\n",
       "      <td>-0.576324</td>\n",
       "      <td>-0.893622</td>\n",
       "      <td>0.893622</td>\n",
       "      <td>-1.272440</td>\n",
       "      <td>1.341641</td>\n",
       "      <td>-1.336350</td>\n",
       "    </tr>\n",
       "  </tbody>\n",
       "</table>\n",
       "</div>"
      ],
      "text/plain": [
       "     Tenure  NumOfProducts  HasCrCard  IsActiveMember  Geography_France  \\\n",
       "0 -1.015951       0.829642   0.655693        0.944852          0.986097   \n",
       "1 -0.672802      -0.903593   0.655693       -1.058367          0.986097   \n",
       "2 -1.015951       0.829642  -1.525104        0.944852          0.986097   \n",
       "3  1.042946       0.829642  -1.525104        0.944852         -1.014099   \n",
       "4  0.356647      -0.903593   0.655693        0.944852         -1.014099   \n",
       "\n",
       "   Geography_Germany  Geography_Spain  Gender_Female  Gender_Male       age  \\\n",
       "0          -0.567599        -0.576324      -0.893622     0.893622  1.365652   \n",
       "1          -0.567599        -0.576324      -0.893622     0.893622 -0.393076   \n",
       "2          -0.567599        -0.576324       1.119041    -1.119041  0.486288   \n",
       "3           1.761808        -0.576324      -0.893622     0.893622 -0.393076   \n",
       "4           1.761808        -0.576324      -0.893622     0.893622 -1.272440   \n",
       "\n",
       "   EstimatedSalary  CreditScore  \n",
       "0        -0.447214    -1.336350  \n",
       "1        -0.447214     0.450612  \n",
       "2        -0.447214    -1.336350  \n",
       "3        -1.341641     0.450612  \n",
       "4         1.341641    -1.336350  "
      ]
     },
     "execution_count": 42,
     "metadata": {},
     "output_type": "execute_result"
    }
   ],
   "source": [
    "#Feature Scaling (Data Standardization/Normalization)\n",
    "#encoded without target\n",
    "ss = StandardScaler()\n",
    "ss_train = ss.fit_transform(x_a_train)\n",
    "x_a_train_ss = pd.DataFrame(ss_train)\n",
    "x_a_train_ss.columns=x_a_train.columns\n",
    "x_a_train_ss.head()\n",
    "\n",
    "#Test\n",
    "ss_test = ss.fit_transform(x_a_test)\n",
    "x_a_test_ss = pd.DataFrame(ss_test)\n",
    "x_a_test_ss.columns=x_a_test.columns\n",
    "x_a_test_ss.head()"
   ]
  },
  {
   "cell_type": "code",
   "execution_count": 43,
   "id": "c795d5f7",
   "metadata": {},
   "outputs": [
    {
     "name": "stdout",
     "output_type": "stream",
     "text": [
      "0.7963\n",
      "0.2037\n"
     ]
    }
   ],
   "source": [
    "# Dealing with imbalanced data\n",
    "\n",
    "#the same for both df_a and df_b set\n",
    "\n",
    "a_target_0 = df_a[df_a.Exited == 0].Exited.count() / df_a.Exited.count()\n",
    "a_target_1 = df_a[df_a.Exited == 1].Exited.count() / df_a.Exited.count()\n",
    "\n",
    "print(a_target_0)\n",
    "print(a_target_1)"
   ]
  },
  {
   "cell_type": "code",
   "execution_count": 44,
   "id": "2043df7b",
   "metadata": {},
   "outputs": [
    {
     "name": "stdout",
     "output_type": "stream",
     "text": [
      "Counter({0: 5590, 1: 5590})\n"
     ]
    }
   ],
   "source": [
    "# SMOTE\n",
    "\n",
    "oversample = SMOTE()\n",
    "\n",
    "x_a_train_ss_over, y_a_train_over = oversample.fit_resample(x_a_train_ss, y_a_train)\n",
    "print(Counter(y_a_train_over))"
   ]
  },
  {
   "cell_type": "code",
   "execution_count": 45,
   "id": "30187be9",
   "metadata": {},
   "outputs": [
    {
     "name": "stdout",
     "output_type": "stream",
     "text": [
      "Counter({0: 2373, 1: 2373})\n"
     ]
    }
   ],
   "source": [
    "#Apply to x_test_set\n",
    "x_a_test_ss_over, y_a_test_over = oversample.fit_resample(x_a_test_ss, y_a_test)\n",
    "print(Counter(y_a_test_over))"
   ]
  },
  {
   "cell_type": "code",
   "execution_count": 46,
   "id": "34c0c65d",
   "metadata": {},
   "outputs": [
    {
     "data": {
      "image/png": "[encoded data removed]",
      "text/plain": [
       "<Figure size 432x288 with 1 Axes>"
      ]
     },
     "metadata": {
      "needs_background": "light"
     },
     "output_type": "display_data"
    }
   ],
   "source": [
    "#Feature Importance\n",
    "\n",
    "#Test on df_a set first\n",
    "\n",
    "fi = ExtraTreesClassifier()\n",
    "fi_a = fi.fit(x_a_train_ss_over, y_a_train_over)\n",
    "\n",
    "df_fi_a = pd.DataFrame(fi_a.feature_importances_,index=x_a_train_ss_over.columns)\n",
    "df_fi_a.nlargest(10,df_fi_a.columns).plot(kind='barh')\n",
    "plt.show()"
   ]
  },
  {
   "cell_type": "code",
   "execution_count": 47,
   "id": "fe2c4535",
   "metadata": {},
   "outputs": [
    {
     "name": "stdout",
     "output_type": "stream",
     "text": [
      "Geography_Spain     -0.075939\n",
      "NumOfProducts       -0.060790\n",
      "CreditScore         -0.020409\n",
      "HasCrCard           -0.005610\n",
      "Tenure               0.007945\n",
      "EstimatedSalary      0.008752\n",
      "Gender_Female        0.141844\n",
      "Geography_Germany    0.203854\n",
      "Age                  0.419274\n",
      "Exited               1.000000\n",
      "Name: Exited, dtype: float64\n"
     ]
    },
    {
     "data": {
      "text/plain": [
       "<AxesSubplot:>"
      ]
     },
     "execution_count": 47,
     "metadata": {},
     "output_type": "execute_result"
    },
    {
     "data": {
      "image/png": "[encoded data removed]",
      "text/plain": [
       "<Figure size 2160x2160 with 2 Axes>"
      ]
     },
     "metadata": {
      "needs_background": "light"
     },
     "output_type": "display_data"
    }
   ],
   "source": [
    "#Correlation Matrix\n",
    "\n",
    "# Test on df_a set\n",
    "\n",
    "df_a_train_processed = pd.concat([x_a_train_ss_over, y_a_train_over], axis=1) #combine processed features with their target\n",
    "\n",
    "cm_a = df_a_train_processed.corr()\n",
    "\n",
    "print(cm_a.Exited.sort_values().tail(10))\n",
    "\n",
    "plt.figure(figsize=(30,30))\n",
    "sns.heatmap(cm_a, xticklabels=df_a_train_processed.columns, yticklabels=df_a_train_processed.columns,annot=True)"
   ]
  },
  {
   "cell_type": "code",
   "execution_count": 48,
   "id": "2045048f",
   "metadata": {},
   "outputs": [
    {
     "data": {
      "text/plain": [
       "(11180, 12)"
      ]
     },
     "execution_count": 48,
     "metadata": {},
     "output_type": "execute_result"
    }
   ],
   "source": [
    "x_a_train_ss_over.shape"
   ]
  },
  {
   "cell_type": "code",
   "execution_count": 49,
   "id": "8f4233b5",
   "metadata": {},
   "outputs": [
    {
     "name": "stdout",
     "output_type": "stream",
     "text": [
      "10\n"
     ]
    },
    {
     "data": {
      "image/png": "[encoded data removed]",
      "text/plain": [
       "<Figure size 432x288 with 1 Axes>"
      ]
     },
     "metadata": {
      "needs_background": "light"
     },
     "output_type": "display_data"
    },
    {
     "data": {
      "text/html": [
       "<div>\n",
       "<style scoped>\n",
       "    .dataframe tbody tr th:only-of-type {\n",
       "        vertical-align: middle;\n",
       "    }\n",
       "\n",
       "    .dataframe tbody tr th {\n",
       "        vertical-align: top;\n",
       "    }\n",
       "\n",
       "    .dataframe thead th {\n",
       "        text-align: right;\n",
       "    }\n",
       "</style>\n",
       "<table border=\"1\" class=\"dataframe\">\n",
       "  <thead>\n",
       "    <tr style=\"text-align: right;\">\n",
       "      <th></th>\n",
       "      <th>0</th>\n",
       "      <th>1</th>\n",
       "      <th>2</th>\n",
       "      <th>3</th>\n",
       "      <th>4</th>\n",
       "      <th>5</th>\n",
       "      <th>6</th>\n",
       "      <th>7</th>\n",
       "      <th>8</th>\n",
       "      <th>9</th>\n",
       "    </tr>\n",
       "  </thead>\n",
       "  <tbody>\n",
       "    <tr>\n",
       "      <th>0</th>\n",
       "      <td>1.424355</td>\n",
       "      <td>-1.365832</td>\n",
       "      <td>-0.159722</td>\n",
       "      <td>0.810346</td>\n",
       "      <td>-1.116747</td>\n",
       "      <td>-1.060103</td>\n",
       "      <td>-0.752318</td>\n",
       "      <td>-0.945335</td>\n",
       "      <td>0.948827</td>\n",
       "      <td>0.232139</td>\n",
       "    </tr>\n",
       "    <tr>\n",
       "      <th>1</th>\n",
       "      <td>1.284142</td>\n",
       "      <td>-1.208024</td>\n",
       "      <td>-1.003736</td>\n",
       "      <td>-0.722032</td>\n",
       "      <td>0.049944</td>\n",
       "      <td>-0.301053</td>\n",
       "      <td>-1.570510</td>\n",
       "      <td>0.075788</td>\n",
       "      <td>0.413163</td>\n",
       "      <td>1.634502</td>\n",
       "    </tr>\n",
       "    <tr>\n",
       "      <th>2</th>\n",
       "      <td>1.296142</td>\n",
       "      <td>-1.207268</td>\n",
       "      <td>-0.935845</td>\n",
       "      <td>-0.408816</td>\n",
       "      <td>-1.935202</td>\n",
       "      <td>-0.090657</td>\n",
       "      <td>0.157967</td>\n",
       "      <td>-1.247704</td>\n",
       "      <td>0.353136</td>\n",
       "      <td>0.263542</td>\n",
       "    </tr>\n",
       "    <tr>\n",
       "      <th>3</th>\n",
       "      <td>-1.413193</td>\n",
       "      <td>-1.476268</td>\n",
       "      <td>0.012545</td>\n",
       "      <td>1.178569</td>\n",
       "      <td>-1.218019</td>\n",
       "      <td>-0.184489</td>\n",
       "      <td>0.574061</td>\n",
       "      <td>0.395324</td>\n",
       "      <td>0.590905</td>\n",
       "      <td>-0.879754</td>\n",
       "    </tr>\n",
       "    <tr>\n",
       "      <th>4</th>\n",
       "      <td>1.392956</td>\n",
       "      <td>-1.150008</td>\n",
       "      <td>-0.941937</td>\n",
       "      <td>-0.443378</td>\n",
       "      <td>-0.251047</td>\n",
       "      <td>0.984766</td>\n",
       "      <td>0.476333</td>\n",
       "      <td>0.180276</td>\n",
       "      <td>-1.807419</td>\n",
       "      <td>1.059052</td>\n",
       "    </tr>\n",
       "  </tbody>\n",
       "</table>\n",
       "</div>"
      ],
      "text/plain": [
       "          0         1         2         3         4         5         6  \\\n",
       "0  1.424355 -1.365832 -0.159722  0.810346 -1.116747 -1.060103 -0.752318   \n",
       "1  1.284142 -1.208024 -1.003736 -0.722032  0.049944 -0.301053 -1.570510   \n",
       "2  1.296142 -1.207268 -0.935845 -0.408816 -1.935202 -0.090657  0.157967   \n",
       "3 -1.413193 -1.476268  0.012545  1.178569 -1.218019 -0.184489  0.574061   \n",
       "4  1.392956 -1.150008 -0.941937 -0.443378 -0.251047  0.984766  0.476333   \n",
       "\n",
       "          7         8         9  \n",
       "0 -0.945335  0.948827  0.232139  \n",
       "1  0.075788  0.413163  1.634502  \n",
       "2 -1.247704  0.353136  0.263542  \n",
       "3  0.395324  0.590905 -0.879754  \n",
       "4  0.180276 -1.807419  1.059052  "
      ]
     },
     "execution_count": 49,
     "metadata": {},
     "output_type": "execute_result"
    }
   ],
   "source": [
    "#PCA on df_a set\n",
    "\n",
    "df_a_train_processed.shape\n",
    "\n",
    "pca = PCA(.95)\n",
    "\n",
    "pca_a_train = pca.fit(x_a_train_ss_over, y_a_train_over)\n",
    "print(pca_a_train.n_components_)\n",
    "\n",
    "plt.plot(np.cumsum(pca_a_train.explained_variance_ratio_))\n",
    "plt.show()\n",
    "\n",
    "x_a_train_ss_over_pca = pd.DataFrame(pca_a_train.transform(x_a_train_ss_over))\n",
    "x_a_train_ss_over_pca.head()"
   ]
  },
  {
   "cell_type": "code",
   "execution_count": 50,
   "id": "2d5aa6ed",
   "metadata": {},
   "outputs": [
    {
     "name": "stdout",
     "output_type": "stream",
     "text": [
      "10\n"
     ]
    },
    {
     "data": {
      "text/html": [
       "<div>\n",
       "<style scoped>\n",
       "    .dataframe tbody tr th:only-of-type {\n",
       "        vertical-align: middle;\n",
       "    }\n",
       "\n",
       "    .dataframe tbody tr th {\n",
       "        vertical-align: top;\n",
       "    }\n",
       "\n",
       "    .dataframe thead th {\n",
       "        text-align: right;\n",
       "    }\n",
       "</style>\n",
       "<table border=\"1\" class=\"dataframe\">\n",
       "  <thead>\n",
       "    <tr style=\"text-align: right;\">\n",
       "      <th></th>\n",
       "      <th>0</th>\n",
       "      <th>1</th>\n",
       "      <th>2</th>\n",
       "      <th>3</th>\n",
       "      <th>4</th>\n",
       "      <th>5</th>\n",
       "      <th>6</th>\n",
       "      <th>7</th>\n",
       "      <th>8</th>\n",
       "      <th>9</th>\n",
       "    </tr>\n",
       "  </thead>\n",
       "  <tbody>\n",
       "    <tr>\n",
       "      <th>0</th>\n",
       "      <td>-1.721650</td>\n",
       "      <td>-0.643490</td>\n",
       "      <td>-0.243467</td>\n",
       "      <td>0.727065</td>\n",
       "      <td>0.518737</td>\n",
       "      <td>-0.396471</td>\n",
       "      <td>-1.724409</td>\n",
       "      <td>-1.406561</td>\n",
       "      <td>0.069336</td>\n",
       "      <td>-0.888468</td>\n",
       "    </tr>\n",
       "    <tr>\n",
       "      <th>1</th>\n",
       "      <td>-1.719433</td>\n",
       "      <td>-0.488378</td>\n",
       "      <td>-0.855307</td>\n",
       "      <td>-0.688133</td>\n",
       "      <td>-0.385169</td>\n",
       "      <td>-1.045407</td>\n",
       "      <td>0.685716</td>\n",
       "      <td>-0.361339</td>\n",
       "      <td>-0.406026</td>\n",
       "      <td>0.740820</td>\n",
       "    </tr>\n",
       "    <tr>\n",
       "      <th>2</th>\n",
       "      <td>0.894887</td>\n",
       "      <td>-1.922328</td>\n",
       "      <td>0.016023</td>\n",
       "      <td>0.988482</td>\n",
       "      <td>-0.493252</td>\n",
       "      <td>0.810995</td>\n",
       "      <td>-1.476314</td>\n",
       "      <td>-1.243932</td>\n",
       "      <td>1.128870</td>\n",
       "      <td>0.260753</td>\n",
       "    </tr>\n",
       "    <tr>\n",
       "      <th>3</th>\n",
       "      <td>-0.702663</td>\n",
       "      <td>1.927446</td>\n",
       "      <td>0.231200</td>\n",
       "      <td>1.780724</td>\n",
       "      <td>-1.527474</td>\n",
       "      <td>0.809792</td>\n",
       "      <td>0.471721</td>\n",
       "      <td>0.475016</td>\n",
       "      <td>1.585053</td>\n",
       "      <td>-0.417409</td>\n",
       "    </tr>\n",
       "    <tr>\n",
       "      <th>4</th>\n",
       "      <td>-0.804567</td>\n",
       "      <td>1.728019</td>\n",
       "      <td>-0.464717</td>\n",
       "      <td>0.377118</td>\n",
       "      <td>0.061493</td>\n",
       "      <td>-0.342896</td>\n",
       "      <td>-1.794485</td>\n",
       "      <td>2.394733</td>\n",
       "      <td>0.001940</td>\n",
       "      <td>0.891093</td>\n",
       "    </tr>\n",
       "  </tbody>\n",
       "</table>\n",
       "</div>"
      ],
      "text/plain": [
       "          0         1         2         3         4         5         6  \\\n",
       "0 -1.721650 -0.643490 -0.243467  0.727065  0.518737 -0.396471 -1.724409   \n",
       "1 -1.719433 -0.488378 -0.855307 -0.688133 -0.385169 -1.045407  0.685716   \n",
       "2  0.894887 -1.922328  0.016023  0.988482 -0.493252  0.810995 -1.476314   \n",
       "3 -0.702663  1.927446  0.231200  1.780724 -1.527474  0.809792  0.471721   \n",
       "4 -0.804567  1.728019 -0.464717  0.377118  0.061493 -0.342896 -1.794485   \n",
       "\n",
       "          7         8         9  \n",
       "0 -1.406561  0.069336 -0.888468  \n",
       "1 -0.361339 -0.406026  0.740820  \n",
       "2 -1.243932  1.128870  0.260753  \n",
       "3  0.475016  1.585053 -0.417409  \n",
       "4  2.394733  0.001940  0.891093  "
      ]
     },
     "execution_count": 50,
     "metadata": {},
     "output_type": "execute_result"
    }
   ],
   "source": [
    "#Apply PCA on x_test set\n",
    "\n",
    "pca_a_test = pca.fit(x_a_test_ss_over, y_a_test_over)\n",
    "print(pca_a_test.n_components_)\n",
    "\n",
    "x_a_test_ss_over_pca = pd.DataFrame(pca_a_test.transform(x_a_test_ss_over))\n",
    "x_a_test_ss_over_pca.head()"
   ]
  },
  {
   "cell_type": "code",
   "execution_count": 51,
   "id": "0e6d2afd",
   "metadata": {},
   "outputs": [],
   "source": [
    "# Apply algorithm \n",
    "# Models to be tested: L ogistic Regression, KNearest, SVM, Decision Tree, Random Forest, XGBoost, LightGBM\n",
    "classifiers = {\n",
    "    \"LogisticRegression\" : LogisticRegression(),\n",
    "    \"KNeighbors\" : KNeighborsClassifier(),\n",
    "    \"SVC\" : SVC(),\n",
    "    \"DecisionTree\" : DecisionTreeClassifier(),\n",
    "    \"RandomForest\" : RandomForestClassifier()\n",
    "}"
   ]
  },
  {
   "cell_type": "code",
   "execution_count": 52,
   "id": "10a95179",
   "metadata": {},
   "outputs": [
    {
     "name": "stdout",
     "output_type": "stream",
     "text": [
      "[0.72, 0.89, 0.8, 0.99, 0.99]\n",
      "[0.63, 0.67, 0.73, 0.55, 0.63]\n",
      "CPU times: total: 53.1 s\n",
      "Wall time: 1min 5s\n"
     ]
    }
   ],
   "source": [
    "%%time\n",
    "#Compute the training score of each models\n",
    "\n",
    "train_scores = []\n",
    "test_scores = []\n",
    "\n",
    "for key, classifier in classifiers.items():\n",
    "    classifier.fit(x_a_train_ss_over_pca, y_a_train_over)\n",
    "    train_score = round(classifier.score(x_a_train_ss_over_pca, y_a_train_over),2)\n",
    "    train_scores.append(train_score)\n",
    "    test_score = round(classifier.score(x_a_test_ss_over_pca, y_a_test_over),2)\n",
    "    test_scores.append(test_score)\n",
    "\n",
    "print(train_scores)\n",
    "print(test_scores)"
   ]
  },
  {
   "cell_type": "code",
   "execution_count": 53,
   "id": "c6853a3d",
   "metadata": {},
   "outputs": [
    {
     "name": "stdout",
     "output_type": "stream",
     "text": [
      "[0.72, 0.83, 0.79, 0.81, 0.85]\n",
      "[0.73, 0.83, 0.81, 0.8, 0.87]\n"
     ]
    }
   ],
   "source": [
    "train_cross_scores = []\n",
    "test_cross_scores = []\n",
    "\n",
    "for key, classifier in classifiers.items():\n",
    "    classifier.fit(x_a_train_ss_over_pca, y_a_train_over)\n",
    "    train_score = cross_val_score(classifier, x_a_train_ss_over_pca, y_a_train_over, cv=5)\n",
    "    train_cross_scores.append(round(train_score.mean(),2))\n",
    "    test_score = cross_val_score(classifier, x_a_test_ss_over_pca, y_a_test_over, cv=5)\n",
    "    test_cross_scores.append(round(test_score.mean(),2))\n",
    "    \n",
    "print(train_cross_scores)\n",
    "print(test_cross_scores)"
   ]
  },
  {
   "cell_type": "code",
   "execution_count": 54,
   "id": "f57804e7",
   "metadata": {},
   "outputs": [
    {
     "name": "stdout",
     "output_type": "stream",
     "text": [
      "0.8670459334176148\n"
     ]
    }
   ],
   "source": [
    "rf = RandomForestClassifier()\n",
    "rf.fit(x_a_train_ss_over_pca, y_a_train_over)\n",
    "rf_pred = cross_val_predict(rf, x_a_test_ss_over_pca, y_a_test_over, cv=5)\n",
    "print(roc_auc_score(y_a_test_over, rf_pred))"
   ]
  },
  {
   "cell_type": "code",
   "execution_count": 55,
   "id": "32fd4406",
   "metadata": {},
   "outputs": [
    {
     "data": {
      "image/png": "[encoded data removed]",
      "text/plain": [
       "<Figure size 432x288 with 1 Axes>"
      ]
     },
     "metadata": {
      "needs_background": "light"
     },
     "output_type": "display_data"
    }
   ],
   "source": [
    "fpr, tpr, _ = roc_curve(y_a_test_over, rf_pred)\n",
    "plt.plot(fpr, tpr)\n",
    "plt.show()"
   ]
  },
  {
   "cell_type": "code",
   "execution_count": 56,
   "id": "515458e5",
   "metadata": {},
   "outputs": [],
   "source": [
    "#Modelling score has improved after removing resampling bit (on both df_a and df_b set)\n",
    "#However, we have not achieved the best accuracy score as we expect (>90%)"
   ]
  },
  {
   "cell_type": "code",
   "execution_count": 57,
   "id": "b8520917",
   "metadata": {},
   "outputs": [],
   "source": [
    "#6.2. Hyperparameter Tuning\n",
    "\n",
    "#Logistic Regression\n",
    "lr = LogisticRegression()\n",
    "lr_params = {\"penalty\": ['l2'], \"C\": [0.001, 0.01, 0.1, 1, 10, 100, 1000],\n",
    "                  \"solver\": ['newton-cg', 'lbfgs', 'liblinear', 'sag', 'saga']}\n",
    "grid_logistic = GridSearchCV(lr, lr_params)\n",
    "grid_logistic.fit(x_a_train_ss_over_pca, y_a_train_over)\n",
    "lr_best = grid_logistic.best_estimator_"
   ]
  },
  {
   "cell_type": "code",
   "execution_count": 58,
   "id": "f5fdfd02",
   "metadata": {},
   "outputs": [
    {
     "data": {
      "text/plain": [
       "LogisticRegression(C=0.001, solver='liblinear')"
      ]
     },
     "execution_count": 58,
     "metadata": {},
     "output_type": "execute_result"
    }
   ],
   "source": [
    "lr_best"
   ]
  },
  {
   "cell_type": "code",
   "execution_count": 59,
   "id": "20afd182",
   "metadata": {},
   "outputs": [],
   "source": [
    "#KNearest Neighbors\n",
    "knear = KNeighborsClassifier()\n",
    "knear_params = {\"n_neighbors\": list(range(2,7,1)), \"algorithm\": ['auto', 'ball_tree', 'kd_tree', 'brutle']}\n",
    "grid_knear = GridSearchCV(knear, knear_params)\n",
    "grid_knear.fit(x_a_train_ss_over_pca, y_a_train_over)\n",
    "knear_best = grid_knear.best_estimator_"
   ]
  },
  {
   "cell_type": "code",
   "execution_count": 61,
   "id": "f79a5209",
   "metadata": {},
   "outputs": [],
   "source": [
    "#SVC\n",
    "\n",
    "svc = SVC()\n",
    "svc_params = {\"C\": [0.5, 0.7, 0.9, 1], \"kernel\":['rbf', 'poly', 'sigmoid', 'linear']}\n",
    "grid_svc = GridSearchCV(svc, svc_params)\n",
    "grid_svc.fit(x_a_train_ss_over_pca, y_a_train_over)\n",
    "svc_best = grid_svc.best_estimator_"
   ]
  },
  {
   "cell_type": "code",
   "execution_count": 62,
   "id": "d3ed7052",
   "metadata": {},
   "outputs": [
    {
     "data": {
      "text/plain": [
       "SVC(C=1)"
      ]
     },
     "execution_count": 62,
     "metadata": {},
     "output_type": "execute_result"
    }
   ],
   "source": [
    "svc_best"
   ]
  },
  {
   "cell_type": "code",
   "execution_count": 64,
   "id": "6eed4ff2",
   "metadata": {},
   "outputs": [],
   "source": [
    "#Decision Tree\n",
    "\n",
    "tree = DecisionTreeClassifier()\n",
    "tree_params = {\"criterion\": ['gini', 'entropy'], \"max_depth\":list(range(2,5,1)), \"min_samples_leaf\":list(range(5,7,1))}\n",
    "grid_tree = GridSearchCV(tree, tree_params)\n",
    "grid_tree.fit(x_a_train_ss_over_pca, y_a_train_over)\n",
    "tree_best = grid_tree.best_estimator_"
   ]
  },
  {
   "cell_type": "code",
   "execution_count": 65,
   "id": "7e31f2b2",
   "metadata": {},
   "outputs": [
    {
     "name": "stdout",
     "output_type": "stream",
     "text": [
      "[16:51:18] WARNING: C:/Users/Administrator/workspace/xgboost-win64_release_1.5.1/src/learner.cc:1115: Starting in XGBoost 1.3.0, the default evaluation metric used with the objective 'binary:logistic' was changed from 'error' to 'logloss'. Explicitly set eval_metric if you'd like to restore the old behavior.\n",
      "[16:51:22] WARNING: C:/Users/Administrator/workspace/xgboost-win64_release_1.5.1/src/learner.cc:1115: Starting in XGBoost 1.3.0, the default evaluation metric used with the objective 'binary:logistic' was changed from 'error' to 'logloss'. Explicitly set eval_metric if you'd like to restore the old behavior.\n",
      "[16:51:25] WARNING: C:/Users/Administrator/workspace/xgboost-win64_release_1.5.1/src/learner.cc:1115: Starting in XGBoost 1.3.0, the default evaluation metric used with the objective 'binary:logistic' was changed from 'error' to 'logloss'. Explicitly set eval_metric if you'd like to restore the old behavior.\n",
      "[16:51:28] WARNING: C:/Users/Administrator/workspace/xgboost-win64_release_1.5.1/src/learner.cc:1115: Starting in XGBoost 1.3.0, the default evaluation metric used with the objective 'binary:logistic' was changed from 'error' to 'logloss'. Explicitly set eval_metric if you'd like to restore the old behavior.\n",
      "[16:51:31] WARNING: C:/Users/Administrator/workspace/xgboost-win64_release_1.5.1/src/learner.cc:1115: Starting in XGBoost 1.3.0, the default evaluation metric used with the objective 'binary:logistic' was changed from 'error' to 'logloss'. Explicitly set eval_metric if you'd like to restore the old behavior.\n",
      "[16:51:35] WARNING: C:/Users/Administrator/workspace/xgboost-win64_release_1.5.1/src/learner.cc:1115: Starting in XGBoost 1.3.0, the default evaluation metric used with the objective 'binary:logistic' was changed from 'error' to 'logloss'. Explicitly set eval_metric if you'd like to restore the old behavior.\n",
      "[16:51:38] WARNING: C:/Users/Administrator/workspace/xgboost-win64_release_1.5.1/src/learner.cc:1115: Starting in XGBoost 1.3.0, the default evaluation metric used with the objective 'binary:logistic' was changed from 'error' to 'logloss'. Explicitly set eval_metric if you'd like to restore the old behavior.\n",
      "[16:51:39] WARNING: C:/Users/Administrator/workspace/xgboost-win64_release_1.5.1/src/learner.cc:1115: Starting in XGBoost 1.3.0, the default evaluation metric used with the objective 'binary:logistic' was changed from 'error' to 'logloss'. Explicitly set eval_metric if you'd like to restore the old behavior.\n",
      "[16:51:41] WARNING: C:/Users/Administrator/workspace/xgboost-win64_release_1.5.1/src/learner.cc:1115: Starting in XGBoost 1.3.0, the default evaluation metric used with the objective 'binary:logistic' was changed from 'error' to 'logloss'. Explicitly set eval_metric if you'd like to restore the old behavior.\n",
      "[16:51:42] WARNING: C:/Users/Administrator/workspace/xgboost-win64_release_1.5.1/src/learner.cc:1115: Starting in XGBoost 1.3.0, the default evaluation metric used with the objective 'binary:logistic' was changed from 'error' to 'logloss'. Explicitly set eval_metric if you'd like to restore the old behavior.\n",
      "[16:51:43] WARNING: C:/Users/Administrator/workspace/xgboost-win64_release_1.5.1/src/learner.cc:1115: Starting in XGBoost 1.3.0, the default evaluation metric used with the objective 'binary:logistic' was changed from 'error' to 'logloss'. Explicitly set eval_metric if you'd like to restore the old behavior.\n",
      "0.82\n",
      "0.85\n"
     ]
    }
   ],
   "source": [
    "xgb_model = xgb.XGBClassifier()\n",
    "xgb_model.fit(x_a_train_ss_over_pca, y_a_train_over)\n",
    "xgb_train_score = cross_val_score(xgb_model, x_a_train_ss_over_pca, y_a_train_over, cv=5)\n",
    "xgb_test_score = cross_val_score(xgb_model, x_a_test_ss_over_pca, y_a_test_over, cv=5)\n",
    "\n",
    "print(round(xgb_train_score.mean(),2))\n",
    "print(round(xgb_test_score.mean(),2))"
   ]
  },
  {
   "cell_type": "code",
   "execution_count": 66,
   "id": "5b2ed73d",
   "metadata": {},
   "outputs": [
    {
     "name": "stdout",
     "output_type": "stream",
     "text": [
      "0.83\n",
      "0.85\n"
     ]
    }
   ],
   "source": [
    "lgb_model = lgb.LGBMClassifier()\n",
    "lgb_model.fit(x_a_train_ss_over_pca, y_a_train_over)\n",
    "lgb_train_score = cross_val_score(lgb_model, x_a_train_ss_over_pca, y_a_train_over, cv=5)\n",
    "lgb_test_score = cross_val_score(lgb_model, x_a_test_ss_over_pca, y_a_test_over, cv=5)\n",
    "\n",
    "print(round(lgb_train_score.mean(),2))\n",
    "print(round(lgb_test_score.mean(),2))"
   ]
  },
  {
   "cell_type": "code",
   "execution_count": 73,
   "id": "d372c117",
   "metadata": {},
   "outputs": [
    {
     "name": "stdout",
     "output_type": "stream",
     "text": [
      "              precision    recall  f1-score   support\n",
      "\n",
      "           0       0.86      0.93      0.89      2373\n",
      "           1       0.61      0.42      0.50       627\n",
      "\n",
      "    accuracy                           0.82      3000\n",
      "   macro avg       0.74      0.68      0.70      3000\n",
      "weighted avg       0.81      0.82      0.81      3000\n",
      "\n",
      "0.8233333333333334\n"
     ]
    }
   ],
   "source": [
    "\n",
    "classifiers = { \"RandomForest\" : RandomForestClassifier()}\n",
    "classifier.fit(x_a_train, y_a_train) \n",
    "predictions = classifier.predict( x_a_test)\n",
    "print(classification_report(y_a_test,predictions )) \n",
    "print(accuracy_score(y_a_test, predictions ))"
   ]
  },
  {
   "cell_type": "markdown",
   "id": "a4cf7089",
   "metadata": {},
   "source": [
    "The results indicate an accuracy of 82.3%, which means that our algorithm successfully predicts customer churn 82.3% of the time."
   ]
  },
  {
   "cell_type": "code",
   "execution_count": null,
   "id": "6243bacf",
   "metadata": {},
   "outputs": [],
   "source": []
  }
 ],
 "metadata": {
  "kernelspec": {
   "display_name": "Python 3 (ipykernel)",
   "language": "python",
   "name": "python3"
  },
  "language_info": {
   "codemirror_mode": {
    "name": "ipython",
    "version": 3
   },
   "file_extension": ".py",
   "mimetype": "text/x-python",
   "name": "python",
   "nbconvert_exporter": "python",
   "pygments_lexer": "ipython3",
   "version": "3.9.7"
  }
 },
 "nbformat": 4,
 "nbformat_minor": 5
}
